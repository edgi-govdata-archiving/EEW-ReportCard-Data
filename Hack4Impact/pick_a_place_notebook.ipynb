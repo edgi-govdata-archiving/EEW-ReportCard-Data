{
  "cells": [
    {
      "cell_type": "markdown",
      "metadata": {
        "id": "9A_5rSlKn2bT"
      },
      "source": [
        "### AllPrograms_Util"
      ]
    },
    {
      "cell_type": "code",
      "execution_count": 22,
      "metadata": {
        "id": "aH66l5Don1Hq"
      },
      "outputs": [],
      "source": [
        "import pdb\n",
        "import pandas as pd\n",
        "\n",
        "\n",
        "def get_region_rowid(cursor, state, cd):\n",
        "    sel_sql = \"select rowid from regions where region_type='{}' and state='{}'\"\n",
        "    sel_cd_sql = sel_sql + \" and region = '{}'\"\n",
        "    sel_state_sql = sel_sql + \" and region = ''\"\n",
        "    ins_sql = \"insert into regions (region_type,state,region) values ('{}','{}','{}')\"\n",
        "    type = \"CD\"\n",
        "    if cd is not None:\n",
        "        sql = sel_cd_sql.format(\"CD\", state, str(cd).zfill(2))\n",
        "    else:\n",
        "        type = \"State\"\n",
        "        sql = sel_state_sql.format(\"State\", state)\n",
        "    cursor.execute(sql)\n",
        "    result = cursor.fetchone()\n",
        "    if result is not None:\n",
        "        return result[0]\n",
        "    else:\n",
        "        cd_str = \"\" if cd is None else str(cd).zfill(2)\n",
        "        sql = ins_sql.format(type, state, cd_str)\n",
        "        cursor.execute(sql)\n",
        "        return cursor.lastrowid\n",
        "\n",
        "\n",
        "# ### 7. Number of currently active facilities regulated in CAA, CWA, RCRRA, GHGRP\n",
        "# * The program_count() function looks at the ECHO_EXPORTER data that is passed in and counts the number of facilities have the 'flag' parameter set to 'Y' (AIR_FLAG, NPDES_FLAG, RCRA_FLAG, GHG_FLAG)\n",
        "# * cd_echo_data is a dictionary with key (state, cd), where the state_echo_data is filtered for records of the current CD.\n",
        "# * cd_echo_active is a dictionary for active facilities in the CD.\n",
        "# * The number of records from these dictionaries is written into a file named like 'active-facilities_All_pg3', in a directory identified by the state and CD, e.g. \"LA2\".\n",
        "\n",
        "\n",
        "def program_count(echo_data, program, flag, state, cd):\n",
        "    count = echo_data.loc[echo_data[flag] == \"Y\"].shape[0]\n",
        "    print(\n",
        "        \"There are {} active facilities in {} CD {} tracked under {}.\".format(\n",
        "            str(count), state, cd, program\n",
        "        )\n",
        "    )\n",
        "    return count\n",
        "\n",
        "\n",
        "\"\"\"\n",
        "Return the count of violations and number of facilities in the dataframe provided.\n",
        "\"\"\"\n",
        "\n",
        "\n",
        "def get_rowdata(df, field, flag):\n",
        "    num_fac = df.loc[df[flag] == \"Y\"].shape[0]\n",
        "    if num_fac == 0:\n",
        "        return (0, 0)\n",
        "    count_viol = df.loc[\n",
        "        ((df[field].str.count(\"S\") + df[field].str.count(\"V\")) >= 3)\n",
        "    ].shape[0]\n",
        "    return (count_viol, num_fac)\n",
        "\n",
        "\n",
        "def get_cwa_df(df):\n",
        "    year = df[\"YEARQTR\"].astype(\"str\").str[0:4:1]\n",
        "    df[\"YEARQTR\"] = year\n",
        "    df.rename(columns={\"YEARQTR\": \"YEAR\"}, inplace=True)\n",
        "    # Remove fields not relevant to this graph.\n",
        "    df = df.drop(\n",
        "        columns=[\n",
        "            \"FAC_LAT\",\n",
        "            \"FAC_LONG\",\n",
        "            \"FAC_ZIP\",\n",
        "            \"FAC_EPA_REGION\",\n",
        "            \"FAC_DERIVED_WBD\",\n",
        "            \"FAC_DERIVED_CD113\",\n",
        "            \"FAC_PERCENT_MINORITY\",\n",
        "            \"FAC_POP_DEN\",\n",
        "            \"FAC_DERIVED_HUC\",\n",
        "            \"FAC_SIC_CODES\",\n",
        "            \"FAC_NAICS_CODES\",\n",
        "            \"DFR_URL\"\n",
        "        ]\n",
        "    )\n",
        "    d = df.groupby(pd.to_datetime(df[\"YEAR\"], format=\"%Y\").dt.to_period(\"Y\")).sum()\n",
        "    d.index = d.index.strftime(\"%Y\")\n",
        "    d = d[d.index > \"2000\"]\n",
        "    d[\"Total\"] = d.sum(axis=1)\n",
        "    return d\n",
        "\n",
        "\n",
        "def get_inspections(ds, ds_type):\n",
        "    df0 = ds.results[ds_type].dataframe\n",
        "    if df0 is None:\n",
        "        return None\n",
        "    else:\n",
        "        df_pgm = df0.copy()\n",
        "    if len(df_pgm) > 0:\n",
        "        df_pgm.rename(\n",
        "            columns={ds.date_field: \"Date\", ds.agg_col: \"Count\"}, inplace=True\n",
        "        )\n",
        "        df_pgm = df_pgm.groupby(\n",
        "            pd.to_datetime(df_pgm[\"Date\"], format=ds.date_format, errors=\"coerce\")\n",
        "        )[[\"Count\"]].agg(\"count\")\n",
        "        df_pgm = df_pgm.resample(\"Y\").sum()\n",
        "        df_pgm.index = df_pgm.index.strftime(\"%Y\")\n",
        "        df_pgm = df_pgm[df_pgm.index > \"2000\"]\n",
        "    else:\n",
        "        print(\"No records\")\n",
        "    return df_pgm\n",
        "\n",
        "\n",
        "def get_events(ds, ds_type):\n",
        "    df0 = ds.results[ds_type].dataframe\n",
        "    if df0 is None:\n",
        "        return None\n",
        "    else:\n",
        "        df_pgm = df0.copy()\n",
        "    df_pgm.rename(columns={ds.date_field: \"Date\", ds.agg_col: \"Count\"}, inplace=True)\n",
        "\n",
        "    try:\n",
        "        df_pgm = df_pgm.groupby(\n",
        "            pd.to_datetime(df_pgm[\"Date\"], format=ds.date_format, errors=\"coerce\")\n",
        "        )[[\"Count\"]].agg(\"count\")\n",
        "    except ValueError:\n",
        "        print(\"Error with date {}\".format(df_pgm[\"Date\"]))\n",
        "    df_pgm = df_pgm.resample(\"Y\").sum()\n",
        "    df_pgm.index = df_pgm.index.strftime(\"%Y\")\n",
        "    df_pgm = df_pgm[df_pgm.index >= \"2001\"]\n",
        "    return df_pgm\n",
        "\n",
        "\n",
        "def get_num_events(ds, ds_type, state, cd, year):\n",
        "    df_pgm = get_events(ds, ds_type)\n",
        "    if df_pgm is None:\n",
        "        return 0\n",
        "    if len(df_pgm) > 0:\n",
        "        num_events = df_pgm[df_pgm.index == year]\n",
        "        if num_events.empty:\n",
        "            return 0\n",
        "        else:\n",
        "            return num_events[\"Count\"][0]\n",
        "\n",
        "\n",
        "def get_num_facilities(data_sets, program, ds_type, year):\n",
        "    ds = data_sets[program]\n",
        "    df0 = ds.results[ds_type].dataframe\n",
        "    if df0 is None:\n",
        "        return 0\n",
        "    else:\n",
        "        df_pgm = df0.copy()\n",
        "    if len(df_pgm) > 0:\n",
        "        df_pgm.rename(\n",
        "            columns={ds.date_field: \"Date\", ds.agg_col: \"Count\"}, inplace=True\n",
        "        )\n",
        "        if program == \"CWA Violations\":\n",
        "            yr = df_pgm[\"Date\"].astype(\"str\").str[0:4:1]\n",
        "            df_pgm[\"Date\"] = pd.to_datetime(yr, format=\"%Y\")\n",
        "        else:\n",
        "            df_pgm[\"Date\"] = pd.to_datetime(\n",
        "                df_pgm[\"Date\"], format=ds.date_format, errors=\"coerce\"\n",
        "            )\n",
        "        df_pgm_year = df_pgm[df_pgm[\"Date\"].dt.year == year].copy()\n",
        "        df_pgm_year[\"Date\"] = pd.DatetimeIndex(df_pgm_year[\"Date\"]).year\n",
        "        num_fac = len(df_pgm_year.index.unique())\n",
        "        return num_fac\n",
        "\n",
        "\n",
        "def get_enf_per_fac(ds_enf, ds_type, num_fac, year):\n",
        "    df_pgm = get_enforcements(ds_enf, ds_type)\n",
        "    if df_pgm is None or df_pgm.empty:\n",
        "        print(\"There were no enforcement actions taken in the focus year\")\n",
        "    else:\n",
        "        iyear = int(year)\n",
        "        year_3 = str(iyear - 3)\n",
        "        df_pgm = df_pgm[df_pgm.index > year_3]\n",
        "        df_pgm = df_pgm[df_pgm.index <= year]\n",
        "        if df_pgm.empty:\n",
        "            df_pgm[\"Count\"] = 0\n",
        "            df_pgm[\"Amount\"] = 0\n",
        "        else:\n",
        "            df_pgm = df_pgm.agg({\"Amount\": \"sum\", \"Count\": \"sum\"})\n",
        "            df_pgm.Count = 0 if (num_fac == 0) else df_pgm.Count / num_fac\n",
        "            df_pgm.Amount = 0 if (num_fac == 0) else df_pgm.Amount / num_fac\n",
        "    return df_pgm\n",
        "\n",
        "\n",
        "def get_enforcements(ds, ds_type):\n",
        "    df0 = ds.results[ds_type].dataframe\n",
        "    if df0 is None:\n",
        "        return None\n",
        "    else:\n",
        "        df_pgm = df0.copy()\n",
        "    if len(df_pgm) > 0:\n",
        "        df_pgm.rename(\n",
        "            columns={ds.date_field: \"Date\", ds.agg_col: \"Amount\"}, inplace=True\n",
        "        )\n",
        "        if ds.name == \"CWA Penalties\":\n",
        "            df_pgm[\"Amount\"] = df_pgm[\"Amount\"].fillna(0)\n",
        "            df_pgm[\"Amount\"] += df_pgm[\"STATE_LOCAL_PENALTY_AMT\"].fillna(0)\n",
        "        df_pgm[\"Count\"] = 1\n",
        "        df_pgm = df_pgm.groupby(\n",
        "            pd.to_datetime(df_pgm[\"Date\"], format=\"%m/%d/%Y\", errors=\"coerce\")\n",
        "        ).agg({\"Amount\": \"sum\", \"Count\": \"count\"})\n",
        "\n",
        "        df_pgm = df_pgm.resample(\"Y\").sum()\n",
        "        df_pgm.index = df_pgm.index.strftime(\"%Y\")\n",
        "        df_pgm = df_pgm[df_pgm.index >= \"2001\"]\n",
        "    else:\n",
        "        print(\"No records\")\n",
        "    return df_pgm\n",
        "\n",
        "\n",
        "def get_ghg_emissions(ds, ds_type):\n",
        "    df_result = ds.results[ds_type].dataframe\n",
        "    if df_result is None:\n",
        "        print(\"No records\")\n",
        "        return None\n",
        "    else:\n",
        "        df_pgm = df_result.copy()\n",
        "    if df_pgm is not None and len(df_pgm) > 0:\n",
        "        df_pgm.rename(\n",
        "            columns={ds.date_field: \"Date\", ds.agg_col: \"Amount\"}, inplace=True\n",
        "        )\n",
        "        df_pgm = df_pgm.groupby(\n",
        "            pd.to_datetime(df_pgm[\"Date\"], format=ds.date_format, errors=\"coerce\")\n",
        "        )[[\"Amount\"]].agg(\"sum\")\n",
        "        df_pgm = df_pgm.resample(\"Y\").sum()\n",
        "        df_pgm.index = df_pgm.index.strftime(\"%Y\")\n",
        "        # df_pgm = df_pgm[ df_pgm.index == '2018' ]\n",
        "    else:\n",
        "        print(\"No records\")\n",
        "    return df_pgm\n",
        "\n",
        "\n",
        "def get_violations_by_facilities(df, action_field, flag, noncomp_field):\n",
        "    df = df.loc[df[flag] == \"Y\"]\n",
        "    if df.empty:\n",
        "        return None\n",
        "    df = df.copy()\n",
        "    noncomp = df[noncomp_field]\n",
        "    noncomp_count = noncomp.str.count(\"S\") + noncomp.str.count(\"V\")\n",
        "    df[\"noncomp_qtrs\"] = noncomp_count\n",
        "    df = df[[\"FAC_NAME\", \"noncomp_qtrs\"]]\n",
        "    df.rename(columns={\"FAC_NAME\": \"num_facilities\"}, inplace=True)\n",
        "    df = df.fillna(0)\n",
        "    df = df.groupby([\"noncomp_qtrs\"]).count()\n",
        "    return df\n",
        "\n",
        "\n",
        "def get_top_violators(df_active, flag, noncomp_field, action_field, num_fac=10):\n",
        "    \"\"\"\n",
        "    Sort the dataframe and return the rows that have the most number of\n",
        "    non-compliant quarters.\n",
        "\n",
        "    Parameters\n",
        "    ----------\n",
        "    df_active : Dataframe\n",
        "        Must have ECHO_EXPORTER fields\n",
        "    flag : str\n",
        "        Identifies the EPA programs of the facility (AIR_FLAG, NPDES_FLAG, etc.)\n",
        "    state : str\n",
        "        The state\n",
        "    cd : str\n",
        "        The congressional district    \n",
        "    noncomp_field : str\n",
        "        The field with the non-compliance values, 'S' or 'V'.\n",
        "    action_field\n",
        "        The field with the count of quarters with formal actions\n",
        "    num_fac\n",
        "        The number of facilities to include in the returned Dataframe\n",
        "\n",
        "    Returns\n",
        "    -------\n",
        "    Dataframe\n",
        "        The top num_fac violators for the EPA program in the region\n",
        "\n",
        "    Examples\n",
        "    --------\n",
        "    >>> df_violators = get_top_violators( df_active, 'AIR_FLAG', state, region_selected, \n",
        "        'CAA_3YR_COMPL_QTRS_HISTORY', 'CAA_FORMAL_ACTION_COUNT', 20 )\n",
        "    \"\"\"\n",
        "    df = df_active.loc[df_active[flag] == \"Y\"]\n",
        "    if len(df) == 0:\n",
        "        return None\n",
        "    df_active = df.copy()\n",
        "    noncomp = df_active[noncomp_field]\n",
        "    noncomp_count = noncomp.str.count(\"S\") + noncomp.str.count(\"V\")\n",
        "    df_active[\"noncomp_count\"] = noncomp_count\n",
        "    df_active = df_active[\n",
        "        [\"FAC_NAME\", \"noncomp_count\", action_field, \"DFR_URL\", \"FAC_LAT\", \"FAC_LONG\"]\n",
        "    ]\n",
        "    df_active = df_active.sort_values(\n",
        "        by=[\"noncomp_count\", action_field], ascending=False\n",
        "    )\n",
        "    df_active = df_active.head(num_fac)\n",
        "    return df_active"
      ]
    },
    {
      "cell_type": "markdown",
      "metadata": {
        "id": "W-Uh-iJ4oDDe"
      },
      "source": [
        "### Main script"
      ]
    },
    {
      "cell_type": "code",
      "execution_count": 1,
      "metadata": {
        "colab": {
          "base_uri": "https://localhost:8080/"
        },
        "id": "13mR3GUQYcWf",
        "outputId": "04adb00d-b8b1-4f00-f86e-f690d4662ab9"
      },
      "outputs": [
        {
          "name": "stdout",
          "output_type": "stream",
          "text": [
            "Done!\n"
          ]
        }
      ],
      "source": [
        "# Imports\n",
        "# We have a folder of chunks of reusable code that we're using across different\n",
        "#  Notebooks. This step goes and gets the relevant code from that folder so we\n",
        "#  can use it here. (https://github.com/edgi-govdata-archiving/ECHO_modules/)\n",
        "# !git clone https://github.com/edgi-govdata-archiving/ECHO_modules.git &>/dev/null;\n",
        "# !pip install geopandas  &>/dev/null;\n",
        "# !pip install ipyleaflet &>/dev/null;\n",
        "\n",
        "import pandas as pd\n",
        "from ipyleaflet import Map, basemaps, basemap_to_tiles, DrawControl\n",
        "import requests\n",
        "import geopandas\n",
        "import urllib\n",
        "import json\n",
        "\n",
        "import warnings\n",
        "warnings.filterwarnings('ignore')\n",
        "\n",
        "# This code block will print a lot of data as it fetches and installs the libraries\n",
        "#   Specified above. When it's done, the line below lets us know by printing \"Done!\"\n",
        "print(\"Done!\")"
      ]
    },
    {
      "cell_type": "code",
      "execution_count": 1,
      "metadata": {
        "colab": {
          "base_uri": "https://localhost:8080/",
          "height": 639,
          "referenced_widgets": [
            "a65c2850ebe64ccb8e5fbcbf3490a6fd",
            "f6d4fc6784fc42b1a88c338a37eba979",
            "843cbb0f51f74b739884537780fe4b39",
            "bf8ce305181343cfab05181ae6ff2eb8",
            "d379047458914a00b818585827e18193",
            "29cfa6b2ccba40dda1dceab91d367ba6",
            "5aab497bcccc47c18989ffa072c19351",
            "787d0e6715d94ac9a54d3340f248c204",
            "969e4ef9e01849b8ba060493660c36c4"
          ]
        },
        "id": "IuOU3cQnI54Q",
        "outputId": "5e0143d2-4061-409e-d93f-e5c595b17e6d"
      },
      "outputs": [
        {
          "ename": "NameError",
          "evalue": "name 'basemap_to_tiles' is not defined",
          "output_type": "error",
          "traceback": [
            "\u001b[0;31m---------------------------------------------------------------------------\u001b[0m",
            "\u001b[0;31mNameError\u001b[0m                                 Traceback (most recent call last)",
            "\u001b[0;32m/var/folders/hg/956gdmpn6qsbkq3qrrsymzd80000gn/T/ipykernel_7144/1357376056.py\u001b[0m in \u001b[0;36m<module>\u001b[0;34m\u001b[0m\n\u001b[1;32m      1\u001b[0m \u001b[0;31m# Heavily inspired by #https://notebook.community/rjleveque/binder_experiments/misc/ipyleaflet_polygon_selector\u001b[0m\u001b[0;34m\u001b[0m\u001b[0;34m\u001b[0m\u001b[0m\n\u001b[0;32m----> 2\u001b[0;31m \u001b[0mwatercolor\u001b[0m \u001b[0;34m=\u001b[0m \u001b[0mbasemap_to_tiles\u001b[0m\u001b[0;34m(\u001b[0m\u001b[0mbasemaps\u001b[0m\u001b[0;34m.\u001b[0m\u001b[0mStamen\u001b[0m\u001b[0;34m.\u001b[0m\u001b[0mWatercolor\u001b[0m\u001b[0;34m)\u001b[0m\u001b[0;34m\u001b[0m\u001b[0;34m\u001b[0m\u001b[0m\n\u001b[0m\u001b[1;32m      3\u001b[0m \u001b[0;34m\u001b[0m\u001b[0m\n\u001b[1;32m      4\u001b[0m \u001b[0mm\u001b[0m \u001b[0;34m=\u001b[0m \u001b[0mMap\u001b[0m\u001b[0;34m(\u001b[0m\u001b[0mlayers\u001b[0m\u001b[0;34m=\u001b[0m\u001b[0;34m(\u001b[0m\u001b[0mwatercolor\u001b[0m\u001b[0;34m,\u001b[0m \u001b[0;34m)\u001b[0m\u001b[0;34m,\u001b[0m \u001b[0mcenter\u001b[0m\u001b[0;34m=\u001b[0m\u001b[0;34m(\u001b[0m\u001b[0;36m42\u001b[0m\u001b[0;34m,\u001b[0m \u001b[0;34m-\u001b[0m\u001b[0;36m88\u001b[0m\u001b[0;34m)\u001b[0m\u001b[0;34m,\u001b[0m \u001b[0mzoom\u001b[0m\u001b[0;34m=\u001b[0m\u001b[0;36m10\u001b[0m\u001b[0;34m)\u001b[0m\u001b[0;34m\u001b[0m\u001b[0;34m\u001b[0m\u001b[0m\n\u001b[1;32m      5\u001b[0m \u001b[0;34m\u001b[0m\u001b[0m\n",
            "\u001b[0;31mNameError\u001b[0m: name 'basemap_to_tiles' is not defined"
          ]
        }
      ],
      "source": [
        "# Heavily inspired by #https://notebook.community/rjleveque/binder_experiments/misc/ipyleaflet_polygon_selector\n",
        "watercolor = basemap_to_tiles(basemaps.Stamen.Watercolor)\n",
        "\n",
        "m = Map(layers=(watercolor, ), center=(42, -88), zoom=10)\n",
        "\n",
        "global shapes \n",
        "shapes = set()\n",
        "\n",
        "def handle_draw(self, action, geo_json):\n",
        "  global shapes\n",
        "  polygon=[]\n",
        "  for coords in geo_json['geometry']['coordinates'][0][:-1][:]:\n",
        "    polygon.append(tuple(coords))\n",
        "  polygon = tuple(polygon) \n",
        "  if action == 'created':\n",
        "    shapes.add(polygon)\n",
        "    shapes.pop()\n",
        "    print(\"eh\")\n",
        "  elif action == 'deleted':\n",
        "    shapes.discard(polygon)\n",
        "\n",
        "draw_control = DrawControl()\n",
        "\n",
        "draw_control.rectangle = {\n",
        "    \"shapeOptions\": {\n",
        "        \"fillColor\": \"#fca45d\",\n",
        "        \"color\": \"#fca45d\",\n",
        "        \"fillOpacity\": 1.0\n",
        "    }\n",
        "}\n",
        "draw_control.on_draw(handle_draw)\n",
        "m.add_control(draw_control)\n",
        "display(m)"
      ]
    },
    {
      "cell_type": "code",
      "execution_count": 3,
      "metadata": {
        "colab": {
          "base_uri": "https://localhost:8080/",
          "height": 235
        },
        "id": "uQYyE-G5h5f_",
        "outputId": "ff3ed3c1-9d26-4f97-b997-315ca51ab007"
      },
      "outputs": [
        {
          "ename": "NameError",
          "evalue": "name 'shapes' is not defined",
          "output_type": "error",
          "traceback": [
            "\u001b[0;31m---------------------------------------------------------------------------\u001b[0m",
            "\u001b[0;31mNameError\u001b[0m                                 Traceback (most recent call last)",
            "\u001b[0;32m/var/folders/hg/956gdmpn6qsbkq3qrrsymzd80000gn/T/ipykernel_7144/4005437781.py\u001b[0m in \u001b[0;36m<module>\u001b[0;34m\u001b[0m\n\u001b[1;32m      9\u001b[0m \u001b[0mecho_data\u001b[0m \u001b[0;34m=\u001b[0m \u001b[0;34m{\u001b[0m\u001b[0;34m}\u001b[0m\u001b[0;34m\u001b[0m\u001b[0;34m\u001b[0m\u001b[0m\n\u001b[1;32m     10\u001b[0m \u001b[0mecho_active\u001b[0m \u001b[0;34m=\u001b[0m \u001b[0;34m{\u001b[0m\u001b[0;34m}\u001b[0m\u001b[0;34m\u001b[0m\u001b[0;34m\u001b[0m\u001b[0m\n\u001b[0;32m---> 11\u001b[0;31m \u001b[0mtest\u001b[0m \u001b[0;34m=\u001b[0m \u001b[0mshapes\u001b[0m\u001b[0;34m.\u001b[0m\u001b[0mpop\u001b[0m\u001b[0;34m(\u001b[0m\u001b[0;34m)\u001b[0m\u001b[0;34m\u001b[0m\u001b[0;34m\u001b[0m\u001b[0m\n\u001b[0m\u001b[1;32m     12\u001b[0m \u001b[0;34m\u001b[0m\u001b[0m\n\u001b[1;32m     13\u001b[0m \u001b[0;34m\u001b[0m\u001b[0m\n",
            "\u001b[0;31mNameError\u001b[0m: name 'shapes' is not defined"
          ]
        }
      ],
      "source": [
        "from ECHO_modules.get_data import get_echo_data\n",
        "focus_year = \"2022\" # In the future, make this interactive\n",
        "name = \"Chicago\" # In the future, make this interactive\n",
        "# ### 6. Get the data only. \n",
        "# Ask the database for ECHO_EXPORTER records for facilities in area\n",
        "# * echo_data stores all records.\n",
        "# * echo_active is all records in echo_data identified as active.\n",
        "\n",
        "echo_data = {}\n",
        "echo_active = {}\n",
        "test = shapes.pop()\n",
        "\n",
        "\n",
        "# Get data\n",
        "sql = \"\"\"\n",
        "SELECT *\n",
        "FROM \"ECHO_EXPORTER\"\n",
        "WHERE ST_WITHIN(\"wkb_geometry\", ST_GeomFromText('POLYGON(({} {},{} {}, {} {},{} {},{} {}))', 4269) );\n",
        "\"\"\".format(test[0][0], test[0][1], test[1][0], test[1][1], test[2][0], test[2][1], test[3][0], test[3][1], test[0][0], test[0][1])\n",
        "\n",
        "try:\n",
        "  echo_data = get_echo_data(sql, \"REGISTRY_ID\")\n",
        "  echo_active = echo_data.loc[\n",
        "      echo_data[\"FAC_ACTIVE_FLAG\"] == \"Y\"\n",
        "    ]\n",
        "  display(echo_data)\n",
        "except pd.errors.EmptyDataError:\n",
        "  print(\"no data\")\n"
      ]
    },
    {
      "cell_type": "code",
      "execution_count": null,
      "metadata": {
        "id": "ILj_8J3JezWt"
      },
      "outputs": [],
      "source": [
        "# Get Data\n",
        "from ECHO_modules.make_data_sets import make_data_sets\n",
        "\n",
        "data_set_list = [\n",
        "    \"CWA Violations\",\n",
        "    \"CWA Inspections\",\n",
        "    \"CWA Penalties\",\n",
        "]\n",
        "\n",
        "data_sets = make_data_sets(data_set_list)\n",
        "\n",
        "for ds_key, data_set in data_sets.items():\n",
        "  print(ds_key)\n",
        "  data_set.store_results(\n",
        "    region_type=\"Neighborhood\", region_value= name, ee_ids = list(echo_active.index.unique())\n",
        "  )"
      ]
    },
    {
      "cell_type": "code",
      "execution_count": null,
      "metadata": {
        "id": "jQ6Lqj0Vk8rN"
      },
      "outputs": [],
      "source": [
        "place = (\"Neighborhood\", \"Chicago\", None)\n",
        "rowdata_ws = []\n",
        "rd = get_rowdata(\n",
        "  echo_active, \"CWA_13QTRS_COMPL_HISTORY\", \"NPDES_FLAG\"\n",
        ")\n",
        "rowdata_ws.append([\"CWA\", rd[0], rd[1]])\n",
        "num_fac = rd[1]\n",
        "message = (\n",
        "  \"CWA Violations - Territory: {} - {} facilities with violations in {}\"\n",
        ")\n",
        "print(message.format(name, num_fac, focus_year))\n"
      ]
    },
    {
      "cell_type": "code",
      "execution_count": null,
      "metadata": {
        "id": "1lBk3iQImMBO"
      },
      "outputs": [],
      "source": [
        "# Effluent violations in 2022\n",
        "effluent_violations_focus_year = {}  # For use later\n",
        "\n",
        "df = (\n",
        "  data_sets[\"CWA Violations\"]\n",
        "  .results[place]\n",
        "  .dataframe\n",
        ")\n",
        "  \n",
        "effluent_violations_all = get_cwa_df(df)\n",
        "#charts[t][\"violations\"] = effluent_violations_all[[\"Total\"]]\n",
        "\n",
        "for idx, row in effluent_violations_all.iterrows():\n",
        "  if idx == focus_year:\n",
        "    effluent_violations_focus_year[name] = row[\"Total\"]\n",
        "    #map_data.loc[map_data[\"territory\"] == t, \"eff violations in 2022\"] = row[\"Total\"]\n",
        "\n",
        "#map_data[[\"territory\", \"eff violations in 2022\"]]\n",
        "effluent_violations_focus_year[name]"
      ]
    },
    {
      "cell_type": "markdown",
      "metadata": {
        "id": "uIikT42ZtnR3"
      },
      "source": [
        "# TBD"
      ]
    },
    {
      "cell_type": "code",
      "execution_count": null,
      "metadata": {
        "id": "-sEaBmKeeOUj"
      },
      "outputs": [
        {
          "ename": "NameError",
          "evalue": "name 'map_data' is not defined",
          "output_type": "error",
          "traceback": [
            "\u001b[0;31m---------------------------------------------------------------------------\u001b[0m",
            "\u001b[0;31mNameError\u001b[0m                                 Traceback (most recent call last)",
            "\u001b[0;32m/var/folders/hg/956gdmpn6qsbkq3qrrsymzd80000gn/T/ipykernel_5740/603307829.py\u001b[0m in \u001b[0;36m<module>\u001b[0;34m\u001b[0m\n\u001b[1;32m     10\u001b[0m     \u001b[0mchange\u001b[0m \u001b[0;34m=\u001b[0m \u001b[0;32mNone\u001b[0m\u001b[0;34m\u001b[0m\u001b[0;34m\u001b[0m\u001b[0m\n\u001b[1;32m     11\u001b[0m   \u001b[0;32mreturn\u001b[0m \u001b[0mchange\u001b[0m\u001b[0;34m\u001b[0m\u001b[0;34m\u001b[0m\u001b[0m\n\u001b[0;32m---> 12\u001b[0;31m \u001b[0mmap_data\u001b[0m\u001b[0;34m[\u001b[0m\u001b[0;34m\"violations_pct_change\"\u001b[0m\u001b[0;34m]\u001b[0m \u001b[0;34m=\u001b[0m \u001b[0mmap_data\u001b[0m\u001b[0;34m.\u001b[0m\u001b[0mapply\u001b[0m\u001b[0;34m(\u001b[0m\u001b[0;32mlambda\u001b[0m \u001b[0mt\u001b[0m\u001b[0;34m:\u001b[0m \u001b[0mpct_chg\u001b[0m\u001b[0;34m(\u001b[0m\u001b[0mt\u001b[0m\u001b[0;34m)\u001b[0m\u001b[0;34m,\u001b[0m \u001b[0maxis\u001b[0m \u001b[0;34m=\u001b[0m \u001b[0;36m1\u001b[0m\u001b[0;34m)\u001b[0m\u001b[0;34m\u001b[0m\u001b[0;34m\u001b[0m\u001b[0m\n\u001b[0m\u001b[1;32m     13\u001b[0m \u001b[0mmap_data\u001b[0m\u001b[0;34m[\u001b[0m\u001b[0;34m[\u001b[0m\u001b[0;34m\"territory\"\u001b[0m\u001b[0;34m,\u001b[0m \u001b[0;34m\"violations_pct_change\"\u001b[0m\u001b[0;34m]\u001b[0m\u001b[0;34m]\u001b[0m\u001b[0;34m.\u001b[0m\u001b[0msort_values\u001b[0m\u001b[0;34m(\u001b[0m\u001b[0mby\u001b[0m\u001b[0;34m=\u001b[0m\u001b[0;34m\"violations_pct_change\"\u001b[0m\u001b[0;34m,\u001b[0m \u001b[0mascending\u001b[0m\u001b[0;34m=\u001b[0m\u001b[0;32mTrue\u001b[0m\u001b[0;34m)\u001b[0m\u001b[0;34m.\u001b[0m\u001b[0mhead\u001b[0m\u001b[0;34m(\u001b[0m\u001b[0;36m20\u001b[0m\u001b[0;34m)\u001b[0m\u001b[0;34m\u001b[0m\u001b[0;34m\u001b[0m\u001b[0m\n",
            "\u001b[0;31mNameError\u001b[0m: name 'map_data' is not defined"
          ]
        }
      ],
      "source": [
        "# Percent change in violations 01-05 vs 18-22\n",
        "def pct_chg(t):\n",
        "  if charts[t[\"territory\"]][\"violations\"] is not None:\n",
        "    w_viol = charts[t[\"territory\"]][\"violations\"]\n",
        "    #display(w_viol)\n",
        "    first = w_viol.loc[w_viol.index.isin([\"2001\", \"2002\", \"2003\", \"2004\", \"2005\"])].mean()[\"Total\"]\n",
        "    second = w_viol.loc[w_viol.index.isin([\"2018\", \"2019\", \"2020\", \"2021\", \"2022\"])].mean()[\"Total\"]\n",
        "    change = ((second - first) / first) * 100\n",
        "  else:\n",
        "    change = None\n",
        "  return change\n",
        "map_data[\"violations_pct_change\"] = map_data.apply(lambda t: pct_chg(t), axis = 1)\n",
        "map_data[[\"territory\", \"violations_pct_change\"]].sort_values(by=\"violations_pct_change\", ascending=True).head(20)"
      ]
    },
    {
      "cell_type": "code",
      "execution_count": null,
      "metadata": {
        "id": "BybA12oCpD9W"
      },
      "outputs": [],
      "source": [
        "# Inspections and Penalties\n",
        "for t in [\"PR\", \"AS\", \"GM\"]:\n",
        "  display(t)\n",
        "  ds_type = (\"State\", None, t)\n",
        "  df_cwa_ins = get_inspections(data_sets[\"CWA Inspections\"], ds_type\n",
        "  )\n",
        "  charts[t][\"inspections\"] = df_cwa_ins\n",
        "  display(df_cwa_ins)\n",
        "  df_cwa_enf = get_enforcements(data_sets[\"CWA Penalties\"], ds_type\n",
        "  )\n",
        "  charts[t][\"enforcements\"] = df_cwa_enf\n",
        "  display(df_cwa_enf)\n"
      ]
    },
    {
      "cell_type": "code",
      "execution_count": null,
      "metadata": {
        "id": "GYC7rDZzqeru"
      },
      "outputs": [],
      "source": [
        "for t in [\"PR\", \"AS\", \"GM\"]:\n",
        "  ds_type = (\"State\", None, t)\n",
        "  pgm_count_cwa = program_count(\n",
        "    echo_active[t], \"CWA\", \"NPDES_FLAG\", None, t\n",
        "  )\n",
        "  try:\n",
        "    num = get_num_events(\n",
        "        data_sets[\"CWA Inspections\"], ds_type, None, t, focus_year\n",
        "    )\n",
        "    if pgm_count_cwa > 0 and num is not None:\n",
        "        num /= pgm_count_cwa\n",
        "        #print(\"CWA inspections per regulated facilities: \", num)\n",
        "        map_data.loc[map_data[\"territory\"] == t, \"inspections per regulated fac\"] = num\n",
        "  except pd.errors.OutOfBoundsDatetime:\n",
        "      print(\"Bad date in data\")\n",
        "  try:\n",
        "    # Have to handle CWA Violations differently - use saved dictionary from cell 10\n",
        "    if t in list(effluent_violations_focus_year.keys()):\n",
        "      num = effluent_violations_focus_year[t]\n",
        "      if pgm_count_cwa > 0 and num is not None:\n",
        "        num = (num / pgm_count_cwa) * 1000\n",
        "        #print(\"CWA\", ds_type, \"violations per 1000 regulated facilities\", focus_year, num)\n",
        "        map_data.loc[map_data[\"territory\"] == t, \"violations per 1000 fac\"] = num\n",
        "  except pd.errors.OutOfBoundsDatetime:\n",
        "    print(\"Bad date in data\")\n",
        "\n",
        "map_data[[\"territory\", 'inspections per regulated fac', 'violations per 1000 fac']]"
      ]
    },
    {
      "cell_type": "code",
      "execution_count": null,
      "metadata": {
        "id": "mtNi-l_nqgjf"
      },
      "outputs": [],
      "source": [
        "# Top violators\n",
        "for t in [\"PR\", \"AS\", \"GM\"]:\n",
        "  display(t)\n",
        "  df_active = echo_active[t]\n",
        "  ds_type = (\"State\", t)\n",
        "  df_violators = get_top_violators(\n",
        "      df_active,\n",
        "      \"NPDES_FLAG\",\n",
        "      \"CWA_13QTRS_COMPL_HISTORY\",\n",
        "      \"CWA_FORMAL_ACTION_COUNT\",\n",
        "      20,\n",
        "  )\n",
        "  if df_violators is not None:\n",
        "      df_violators.rename(\n",
        "          columns={\"CWA_FORMAL_ACTION_COUNT\": \"formal_action_count\"}, inplace=True\n",
        "      )\n",
        "      df_violators = df_violators.fillna(0)\n",
        "      display(df_violators, ds_type, \"CWA\")"
      ]
    },
    {
      "cell_type": "markdown",
      "metadata": {
        "id": "nMKGDN1b-RG-"
      },
      "source": [
        "### Analyze"
      ]
    },
    {
      "cell_type": "code",
      "execution_count": null,
      "metadata": {
        "id": "_bAf9X7W-Sk_"
      },
      "outputs": [],
      "source": [
        "# Sort territories based on violations\n",
        "top_ten = map_data.sort_values(by=\"violations per 1000 fac\", ascending=False)[[\"territory\", \"violations per 1000 fac\"]].head(10)\n",
        "map_data.sort_values(by=\"violations per 1000 fac\", ascending=False)[[\"territory\", \"violations per 1000 fac\"]].head(10)"
      ]
    },
    {
      "cell_type": "code",
      "execution_count": null,
      "metadata": {
        "id": "AEe8MXKzPiXU"
      },
      "outputs": [],
      "source": []
    }
  ],
  "metadata": {
    "colab": {
      "collapsed_sections": [
        "9A_5rSlKn2bT"
      ],
      "provenance": []
    },
    "kernelspec": {
      "display_name": "base",
      "language": "python",
      "name": "python3"
    },
    "language_info": {
      "codemirror_mode": {
        "name": "ipython",
        "version": 3
      },
      "file_extension": ".py",
      "mimetype": "text/x-python",
      "name": "python",
      "nbconvert_exporter": "python",
      "pygments_lexer": "ipython3",
      "version": "3.9.13"
    },
    "vscode": {
      "interpreter": {
        "hash": "4f0da0464edd75dbb97eed668d5798f10243295b2c6049aa91fc0aebdf2bf5a2"
      }
    },
    "widgets": {
      "application/vnd.jupyter.widget-state+json": {
        "29cfa6b2ccba40dda1dceab91d367ba6": {
          "model_module": "jupyter-leaflet",
          "model_module_version": "^0.17",
          "model_name": "LeafletMapStyleModel",
          "state": {
            "_model_module": "jupyter-leaflet",
            "_model_module_version": "^0.17",
            "_model_name": "LeafletMapStyleModel",
            "_view_count": null,
            "_view_module": "@jupyter-widgets/base",
            "_view_module_version": "1.2.0",
            "_view_name": "StyleView",
            "cursor": "move"
          }
        },
        "5aab497bcccc47c18989ffa072c19351": {
          "model_module": "jupyter-leaflet",
          "model_module_version": "^0.17",
          "model_name": "LeafletTileLayerModel",
          "state": {
            "_model_module": "jupyter-leaflet",
            "_model_module_version": "^0.17",
            "_model_name": "LeafletTileLayerModel",
            "_view_count": null,
            "_view_module": "jupyter-leaflet",
            "_view_module_version": "^0.17",
            "_view_name": "LeafletTileLayerView",
            "attribution": "Map tiles by <a href=\"http://stamen.com\">Stamen Design</a>, <a href=\"http://creativecommons.org/licenses/by/3.0\">CC BY 3.0</a> &mdash; Map data &copy; <a href=\"https://www.openstreetmap.org/copyright\">OpenStreetMap</a> contributors",
            "base": false,
            "bottom": true,
            "bounds": null,
            "detect_retina": false,
            "loading": false,
            "max_native_zoom": null,
            "max_zoom": 16,
            "min_native_zoom": null,
            "min_zoom": 1,
            "name": "Stamen.Watercolor",
            "no_wrap": false,
            "opacity": 1,
            "options": [
              "attribution",
              "bounds",
              "detect_retina",
              "max_native_zoom",
              "max_zoom",
              "min_native_zoom",
              "min_zoom",
              "no_wrap",
              "tile_size",
              "tms",
              "zoom_offset"
            ],
            "pane": "",
            "popup": null,
            "popup_max_height": null,
            "popup_max_width": 300,
            "popup_min_width": 50,
            "show_loading": false,
            "subitems": [],
            "tile_size": 256,
            "tms": false,
            "url": "https://stamen-tiles-a.a.ssl.fastly.net/watercolor/{z}/{x}/{y}.jpg",
            "visible": true,
            "zoom_offset": 0
          }
        },
        "787d0e6715d94ac9a54d3340f248c204": {
          "model_module": "@jupyter-widgets/base",
          "model_module_version": "1.2.0",
          "model_name": "LayoutModel",
          "state": {
            "_model_module": "@jupyter-widgets/base",
            "_model_module_version": "1.2.0",
            "_model_name": "LayoutModel",
            "_view_count": null,
            "_view_module": "@jupyter-widgets/base",
            "_view_module_version": "1.2.0",
            "_view_name": "LayoutView",
            "align_content": null,
            "align_items": null,
            "align_self": null,
            "border": null,
            "bottom": null,
            "display": null,
            "flex": null,
            "flex_flow": null,
            "grid_area": null,
            "grid_auto_columns": null,
            "grid_auto_flow": null,
            "grid_auto_rows": null,
            "grid_column": null,
            "grid_gap": null,
            "grid_row": null,
            "grid_template_areas": null,
            "grid_template_columns": null,
            "grid_template_rows": null,
            "height": null,
            "justify_content": null,
            "justify_items": null,
            "left": null,
            "margin": null,
            "max_height": null,
            "max_width": null,
            "min_height": null,
            "min_width": null,
            "object_fit": null,
            "object_position": null,
            "order": null,
            "overflow": null,
            "overflow_x": null,
            "overflow_y": null,
            "padding": null,
            "right": null,
            "top": null,
            "visibility": null,
            "width": null
          }
        },
        "843cbb0f51f74b739884537780fe4b39": {
          "model_module": "jupyter-leaflet",
          "model_module_version": "^0.17",
          "model_name": "LeafletAttributionControlModel",
          "state": {
            "_model_module": "jupyter-leaflet",
            "_model_module_version": "^0.17",
            "_model_name": "LeafletAttributionControlModel",
            "_view_count": null,
            "_view_module": "jupyter-leaflet",
            "_view_module_version": "^0.17",
            "_view_name": "LeafletAttributionControlView",
            "options": [
              "position",
              "prefix"
            ],
            "position": "bottomright",
            "prefix": "ipyleaflet"
          }
        },
        "969e4ef9e01849b8ba060493660c36c4": {
          "model_module": "jupyter-leaflet",
          "model_module_version": "^0.17",
          "model_name": "LeafletMapStyleModel",
          "state": {
            "_model_module": "jupyter-leaflet",
            "_model_module_version": "^0.17",
            "_model_name": "LeafletMapStyleModel",
            "_view_count": null,
            "_view_module": "@jupyter-widgets/base",
            "_view_module_version": "1.2.0",
            "_view_name": "StyleView",
            "cursor": "grab"
          }
        },
        "a65c2850ebe64ccb8e5fbcbf3490a6fd": {
          "model_module": "jupyter-leaflet",
          "model_module_version": "^0.17",
          "model_name": "LeafletMapModel",
          "state": {
            "_dom_classes": [],
            "_model_module": "jupyter-leaflet",
            "_model_module_version": "^0.17",
            "_model_name": "LeafletMapModel",
            "_view_count": null,
            "_view_module": "jupyter-leaflet",
            "_view_module_version": "^0.17",
            "_view_name": "LeafletMapView",
            "bottom": 97511,
            "bounce_at_zoom_limits": true,
            "box_zoom": true,
            "center": [
              42.001345689029755,
              -87.93319702148439
            ],
            "close_popup_on_click": true,
            "controls": [
              "IPY_MODEL_f6d4fc6784fc42b1a88c338a37eba979",
              "IPY_MODEL_843cbb0f51f74b739884537780fe4b39",
              "IPY_MODEL_bf8ce305181343cfab05181ae6ff2eb8"
            ],
            "crs": {
              "custom": false,
              "name": "EPSG3857"
            },
            "default_style": "IPY_MODEL_d379047458914a00b818585827e18193",
            "double_click_zoom": true,
            "dragging": true,
            "dragging_style": "IPY_MODEL_29cfa6b2ccba40dda1dceab91d367ba6",
            "east": -87.14080810546876,
            "fullscreen": false,
            "inertia": true,
            "inertia_deceleration": 3000,
            "inertia_max_speed": 1500,
            "interpolation": "bilinear",
            "keyboard": true,
            "keyboard_pan_offset": 80,
            "keyboard_zoom_offset": 1,
            "layers": [
              "IPY_MODEL_5aab497bcccc47c18989ffa072c19351"
            ],
            "layout": "IPY_MODEL_787d0e6715d94ac9a54d3340f248c204",
            "left": 66464,
            "max_zoom": null,
            "min_zoom": null,
            "modisdate": "2023-02-19",
            "north": 42.20512475970615,
            "options": [
              "bounce_at_zoom_limits",
              "box_zoom",
              "center",
              "close_popup_on_click",
              "double_click_zoom",
              "dragging",
              "fullscreen",
              "inertia",
              "inertia_deceleration",
              "inertia_max_speed",
              "interpolation",
              "keyboard",
              "keyboard_pan_offset",
              "keyboard_zoom_offset",
              "max_zoom",
              "min_zoom",
              "prefer_canvas",
              "scroll_wheel_zoom",
              "tap",
              "tap_tolerance",
              "touch_zoom",
              "world_copy_jump",
              "zoom",
              "zoom_animation_threshold",
              "zoom_delta",
              "zoom_snap"
            ],
            "panes": {},
            "prefer_canvas": false,
            "right": 67618,
            "scroll_wheel_zoom": false,
            "south": 41.79691191119474,
            "style": "IPY_MODEL_d379047458914a00b818585827e18193",
            "tap": true,
            "tap_tolerance": 15,
            "top": 97111,
            "touch_zoom": true,
            "west": -88.7255859375,
            "window_url": "https://zcgf77x28a-496ff2e9c6d22116-0-colab.googleusercontent.com/outputframe.html?vrz=colab-20230216-060056-RC01_510471064",
            "world_copy_jump": false,
            "zoom": 10,
            "zoom_animation_threshold": 4,
            "zoom_delta": 1,
            "zoom_snap": 1
          }
        },
        "bf8ce305181343cfab05181ae6ff2eb8": {
          "model_module": "jupyter-leaflet",
          "model_module_version": "^0.17",
          "model_name": "LeafletDrawControlModel",
          "state": {
            "_model_module": "jupyter-leaflet",
            "_model_module_version": "^0.17",
            "_model_name": "LeafletDrawControlModel",
            "_view_count": null,
            "_view_module": "jupyter-leaflet",
            "_view_module_version": "^0.17",
            "_view_name": "LeafletDrawControlView",
            "circle": {},
            "circlemarker": {
              "shapeOptions": {}
            },
            "data": [
              {
                "geometry": {
                  "coordinates": [
                    [
                      [
                        -87.988361,
                        41.93636
                      ],
                      [
                        -87.988361,
                        42.073104
                      ],
                      [
                        -87.777851,
                        42.073104
                      ],
                      [
                        -87.777851,
                        41.93636
                      ],
                      [
                        -87.988361,
                        41.93636
                      ]
                    ]
                  ],
                  "type": "Polygon"
                },
                "properties": {
                  "style": {
                    "attribution": null,
                    "bubblingMouseEvents": true,
                    "clickable": true,
                    "color": "#fca45d",
                    "dashArray": null,
                    "dashOffset": null,
                    "fill": true,
                    "fillColor": "#fca45d",
                    "fillOpacity": 1,
                    "fillRule": "evenodd",
                    "interactive": true,
                    "lineCap": "round",
                    "lineJoin": "round",
                    "noClip": false,
                    "opacity": 0.5,
                    "pane": "overlayPane",
                    "smoothFactor": 1,
                    "stroke": true,
                    "weight": 4
                  }
                },
                "type": "Feature"
              },
              {
                "geometry": {
                  "coordinates": [
                    [
                      -87.863885,
                      42.129485
                    ],
                    [
                      -88.103684,
                      42.06155
                    ],
                    [
                      -87.896358,
                      41.914222
                    ],
                    [
                      -87.71422,
                      42.014292
                    ],
                    [
                      -87.857917,
                      42.12575
                    ]
                  ],
                  "type": "LineString"
                },
                "properties": {
                  "style": {
                    "clickable": true,
                    "color": "#3388ff",
                    "fill": false,
                    "opacity": 0.5,
                    "stroke": true,
                    "weight": 4
                  }
                },
                "type": "Feature"
              }
            ],
            "edit": true,
            "marker": {},
            "options": [
              "position"
            ],
            "polygon": {
              "shapeOptions": {}
            },
            "polyline": {
              "shapeOptions": {}
            },
            "position": "topleft",
            "rectangle": {
              "shapeOptions": {
                "color": "#fca45d",
                "fillColor": "#fca45d",
                "fillOpacity": 1
              }
            },
            "remove": true
          }
        },
        "d379047458914a00b818585827e18193": {
          "model_module": "jupyter-leaflet",
          "model_module_version": "^0.17",
          "model_name": "LeafletMapStyleModel",
          "state": {
            "_model_module": "jupyter-leaflet",
            "_model_module_version": "^0.17",
            "_model_name": "LeafletMapStyleModel",
            "_view_count": null,
            "_view_module": "@jupyter-widgets/base",
            "_view_module_version": "1.2.0",
            "_view_name": "StyleView",
            "cursor": "grab"
          }
        },
        "f6d4fc6784fc42b1a88c338a37eba979": {
          "model_module": "jupyter-leaflet",
          "model_module_version": "^0.17",
          "model_name": "LeafletZoomControlModel",
          "state": {
            "_model_module": "jupyter-leaflet",
            "_model_module_version": "^0.17",
            "_model_name": "LeafletZoomControlModel",
            "_view_count": null,
            "_view_module": "jupyter-leaflet",
            "_view_module_version": "^0.17",
            "_view_name": "LeafletZoomControlView",
            "options": [
              "position",
              "zoom_in_text",
              "zoom_in_title",
              "zoom_out_text",
              "zoom_out_title"
            ],
            "position": "topleft",
            "zoom_in_text": "+",
            "zoom_in_title": "Zoom in",
            "zoom_out_text": "-",
            "zoom_out_title": "Zoom out"
          }
        }
      }
    }
  },
  "nbformat": 4,
  "nbformat_minor": 0
}
