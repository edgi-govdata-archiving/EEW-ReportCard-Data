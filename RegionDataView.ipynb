{
 "cells": [
  {
   "cell_type": "markdown",
   "metadata": {
    "colab_type": "text",
    "id": "9iqQomRkRGm2"
   },
   "source": [
    "| ![EEW logo](https://github.com/edgi-govdata-archiving/EEW-Image-Assets/blob/master/Jupyter%20instructions/eew.jpg?raw=true) | ![EDGI logo](https://github.com/edgi-govdata-archiving/EEW-Image-Assets/blob/master/Jupyter%20instructions/edgi.png?raw=true) |\n",
    "|---|---|\n",
    "\n",
    "#### This notebook is licensed under GPL 3.0. Please visit our Github repo for more information: https://github.com/edgi-govdata-archiving/ECHO-COVID19\n",
    "#### The notebook was collaboratively authored by EDGI following our authorship protocol: https://docs.google.com/document/d/1CtDN5ZZ4Zv70fHiBTmWkDJ9mswEipX6eCYrwicP66Xw/\n",
    "#### For more information about this project, visit https://www.environmentalenforcementwatch.org/"
   ]
  },
  {
   "cell_type": "markdown",
   "metadata": {
    "colab_type": "text",
    "id": "Y2ld3IVjRGm3"
   },
   "source": [
    "# Use the region.db SQLite database to look up data on regions\n",
    "\n",
    "This notebook uses the region.db database that is part of the EEW Congressional Report Card generation process.  It gives the user the opportunity to look into the information collected in that database, in ways that may not be a part of our current report cards."
   ]
  },
  {
   "cell_type": "markdown",
   "metadata": {
    "colab_type": "text",
    "id": "g_Q7wCmjRGm5"
   },
   "source": [
    "## How to Run\n",
    "* A \"cell\" in a Jupyter notebook is a block of code performing a set of actions making available or using specific data.  The notebook works by running one cell after another, as the notebook user selects offered options.\n",
    "* If you click on a gray **code** cell, a little “play button” arrow appears on the left. If you click the play button, it will run the code in that cell (“**running** a cell”). The button will animate. When the animation stops, the cell has finished running.\n",
    "![Where to click to run the cell](https://github.com/edgi-govdata-archiving/EEW-Image-Assets/blob/master/Jupyter%20instructions/pressplay.JPG?raw=true)\n",
    "* You may get a warning that the notebook was not authored by Google. We know, we authored them! It’s okay. Click “Run Anyway” to continue. \n",
    "![Error Message](https://github.com/edgi-govdata-archiving/EEW-Image-Assets/blob/master/Jupyter%20instructions/warning-message.JPG?raw=true)\n",
    "* **It is important to run cells in order because they depend on each other.**\n",
    "* Run all of the cells in a Notebook to make a complete report. Please feel free to look at and **learn about each result as you create it**!"
   ]
  },
  {
   "cell_type": "markdown",
   "metadata": {
    "colab_type": "text",
    "id": "H0o5UIQFRGm7"
   },
   "source": [
    "---"
   ]
  },
  {
   "cell_type": "markdown",
   "metadata": {
    "colab_type": "text",
    "id": "gGXDiht8RGm8"
   },
   "source": [
    "# **Let's begin!**"
   ]
  },
  {
   "cell_type": "markdown",
   "metadata": {
    "colab_type": "text",
    "id": "SBuGoozCRGm9"
   },
   "source": [
    "Hover over the \"[ ]\" on the top left corner of the cell below and you should see a \"play\" button appear. Click on it to run the cell then move to the next one.\n",
    "\n",
    "These first two cells give us access to some external Python code we will need."
   ]
  },
  {
   "cell_type": "markdown",
   "metadata": {
    "colab_type": "text",
    "id": "oP0y1jSyRGnA"
   },
   "source": [
    "### 1.  Bring in some code that is stored in a Github project.\n",
    "These two github repositories hold Python code that the notebook uses.\n",
    "* ECHO_modules holds code that can be used in this and other notebooks--the DataSet class, the make_data_sets() function, etc.\n",
    "* The ECHO-Cross-Program repository is the one this notebook is contained in.  We clone it to be able to use the utilities.py file contained in it."
   ]
  },
  {
   "cell_type": "code",
   "execution_count": null,
   "metadata": {
    "colab": {},
    "colab_type": "code",
    "id": "Nw8lXKinRGnB",
    "tags": []
   },
   "outputs": [],
   "source": [
    "!git clone https://github.com/edgi-govdata-archiving/ECHO_modules.git\n",
    "print(\"Done!\")"
   ]
  },
  {
   "cell_type": "markdown",
   "metadata": {},
   "source": [
    "Additionally, run this next cell if you are in Google's Colab"
   ]
  },
  {
   "cell_type": "code",
   "execution_count": null,
   "metadata": {},
   "outputs": [],
   "source": [
    "!git clone https://github.com/edgi-govdata-archiving/EEW-ReportCard-Data.git\n",
    "%mv /content/EEW-ReportCard-Data/Region.py /content\n",
    "%mv /content/EEW-ReportCard-Data/AllPrograms_util.py /content\n",
    "%mv /content/EEW-ReportCard-Data/region.db /content"
   ]
  },
  {
   "cell_type": "markdown",
   "metadata": {
    "colab_type": "text",
    "id": "daR24kpcRGnJ"
   },
   "source": [
    "### 2.  Import the Region class\n",
    "This class represents a particular region--a state or congressional district or the entire nation. It is constructed with these attributes.\n",
    "\n",
    "    Attributes\n",
    "    ----------\n",
    "    type : str\n",
    "        One of the supported region types--'State',\n",
    "        'Congressional District'    \n",
    "    value : str\n",
    "        The actual identifier of the region--e.g. the number of\n",
    "        the congressional district, omit for states    \n",
    "    state : str\n",
    "        The two letter state abbreviation    \n",
    "    programs : str\n",
    "        The EPA programs\n"
   ]
  },
  {
   "cell_type": "code",
   "execution_count": null,
   "metadata": {
    "colab": {},
    "colab_type": "code",
    "id": "m0PffnzyRGnJ",
    "tags": []
   },
   "outputs": [],
   "source": [
    "from Region import Region\n",
    "\n",
    "programs = ['CAA', 'CWA', 'RCRA']"
   ]
  },
  {
   "cell_type": "markdown",
   "metadata": {},
   "source": [
    "### 3. Begin using functions available through the Region class\n",
    "    def get_per_1000( type, region, year ):\n",
    "    def get_cwa_per_1000( year ):\n",
    "    def get_recurring_violations( program ):\n",
    "    def get_inflation( base_year ):\n",
    "    def get_events( type, program, base_year ):\n",
    "    def get_non_compliants( program ):\n",
    "    def get_active_facilities( program, table='active_facilities' ):\n",
    "\n",
    "These examples get the violations per 1000 facilities for the total USA and the selected state."
   ]
  },
  {
   "cell_type": "code",
   "execution_count": null,
   "metadata": {},
   "outputs": [],
   "source": [
    "this_state = 'NY'\n",
    "region = Region( type='State', state=this_state,\n",
    "                programs=programs )\n",
    "\n",
    "df = region.get_per_1000( 'violations', 'USA', 2020 )\n",
    "print( \"USA violations\" )\n",
    "print(df)\n",
    "df = region.get_per_1000( 'violations', 'State', 2020 )\n",
    "print( \"State violations - {}\".format(this_state) )\n",
    "print(df)"
   ]
  },
  {
   "cell_type": "markdown",
   "metadata": {
    "colab_type": "text",
    "id": "PFfUck2iRGnP"
   },
   "source": [
    "### 4.  Loop through all states and get violations per 1000 facilities for each"
   ]
  },
  {
   "cell_type": "code",
   "execution_count": null,
   "metadata": {
    "colab": {},
    "colab_type": "code",
    "id": "inOzKoR3RGnQ"
   },
   "outputs": [],
   "source": [
    "import pandas as pd\n",
    "from ECHO_modules.geographies import states\n",
    "\n",
    "all_df = pd.DataFrame( columns=['State', 'Program', 'Per1000'] )\n",
    "for this_state in states:\n",
    "    region = Region( type='State', state=this_state,\n",
    "                programs=programs )\n",
    "    df = region.get_per_1000( 'violations', 'State', 2020 )\n",
    "    df.insert( 0, 'State', this_state )\n",
    "    all_df = all_df.append( df, ignore_index=True )\n",
    "    # print( \"State violations - {}\".format(this_state) )\n",
    "    # print(df)\n",
    "print( all_df )\n",
    "all_df.to_json( 'state_violations.json', orient='records' )\n",
    "all_df.to_csv( 'state_violations.csv')"
   ]
  },
  {
   "cell_type": "markdown",
   "metadata": {},
   "source": [
    "### 4.  Loop through all CDs and get violations per 1000 facilities for each"
   ]
  },
  {
   "cell_type": "code",
   "execution_count": null,
   "metadata": {},
   "outputs": [],
   "source": [
    "import pandas as pd\n",
    "\n",
    "def get_cd( row ):\n",
    "    region = Region( type='Congressional District', state=row[1].state, value=row[1].cd,\n",
    "                programs=programs )\n",
    "    df = region.get_per_1000( type='violations', region='CD', year=2020 )\n",
    "    df.insert( 0, 'State', row[1].state )\n",
    "    df.insert( 1, 'CD', row[1].cd )\n",
    "    return df\n",
    "\n",
    "region = Region( type='None' )\n",
    "all_cds = region.get_cds()\n",
    "\n",
    "all_df = pd.DataFrame( columns=['State', 'CD', 'Program', 'Per1000'] )\n",
    "for row in all_cds.iterrows():\n",
    "    df = get_cd( row )\n",
    "    # breakpoint()\n",
    "    all_df = all_df.append( df, ignore_index=True )\n",
    "all_df.to_json( 'cd_violations.json', orient='records' )\n",
    "all_df.to_csv( 'cd_violations.csv' )"
   ]
  },
  {
   "cell_type": "markdown",
   "metadata": {},
   "source": [
    "## This section lets us graph inspections, violations, enforcements and fines per facility over time\n",
    "\n"
   ]
  },
  {
   "cell_type": "markdown",
   "metadata": {},
   "source": [
    "### Get the events per facility for all years 2001 to 2021 for \n",
    "\n",
    "1. all of the US--all CDs in the database.\n",
    "2. the chosen state\n",
    "3. the chosen CD (if there is one)"
   ]
  },
  {
   "cell_type": "markdown",
   "metadata": {},
   "source": [
    "### 5. Select states or congressional district"
   ]
  },
  {
   "cell_type": "code",
   "execution_count": null,
   "metadata": {},
   "outputs": [],
   "source": [
    "from ECHO_modules.utilities import show_region_type_widget, \\\n",
    "    show_state_widget, show_pick_region_widget\n",
    "\n",
    "region_type_widget = show_region_type_widget( \n",
    "    region_types=['Congressional District', 'State'], default_value='Congressional District')\n",
    "state_widget = None\n",
    "# display( region_type_widget )"
   ]
  },
  {
   "cell_type": "code",
   "execution_count": null,
   "metadata": {},
   "outputs": [],
   "source": [
    "state_widget = show_state_widget( multi=True )"
   ]
  },
  {
   "cell_type": "code",
   "execution_count": null,
   "metadata": {},
   "outputs": [],
   "source": [
    "region_widget = None\n",
    "region_type = region_type_widget.value\n",
    "if ( region_type != 'State' ):\n",
    "    region_widget = show_pick_region_widget( type=region_type,\n",
    "                                           state_widget=state_widget, multi=False )"
   ]
  },
  {
   "cell_type": "code",
   "execution_count": null,
   "metadata": {},
   "outputs": [],
   "source": [
    "states = state_widget.value if state_widget is not None else None\n",
    "region_selected = None\n",
    "if ( region_type != 'State' ):\n",
    "    region_selected = region_widget.value\n"
   ]
  },
  {
   "cell_type": "markdown",
   "metadata": {},
   "source": [
    "### 6. Select CWA, CAA or RCRA"
   ]
  },
  {
   "cell_type": "code",
   "execution_count": null,
   "metadata": {},
   "outputs": [],
   "source": [
    "import ipywidgets as widgets\n",
    "\n",
    "program_widget=widgets.Dropdown(\n",
    "    options=['RCRA', 'CAA', 'CWA'],\n",
    "    description='Program:',\n",
    "    disabled=False,\n",
    ") \n",
    "display(program_widget)\n"
   ]
  },
  {
   "cell_type": "markdown",
   "metadata": {},
   "source": [
    "### 7. Create the graphs"
   ]
  },
  {
   "cell_type": "code",
   "execution_count": null,
   "metadata": {},
   "outputs": [],
   "source": [
    "import pandas as pd\n",
    "from Region import Region\n",
    "\n",
    "def create_df( data_type, y_field ):\n",
    "    usa_region = Region( type='Nation' )\n",
    "    usa_num_facs = usa_region.get_active_facilities( program )\n",
    "    usa_events = usa_region.get_events( data_type, program, 2021 )\n",
    "    usa_events['USA'] = usa_events[y_field]/usa_num_facs\n",
    "\n",
    "    state_events_dict = {}\n",
    "    for state in states:\n",
    "        state_region = Region( type='State', state=state, \n",
    "                    programs=[program,] )\n",
    "        state_num_facs = state_region.get_active_facilities( program )\n",
    "        state_events = state_region.get_events( data_type, program, 2021 )\n",
    "        state_events[ state ] = state_events[y_field]/state_num_facs\n",
    "        state_events_dict[ state ] = state_events\n",
    "\n",
    "    if ( region_type != 'State' ):\n",
    "        local_region = Region( type=region_type, state=states[0], value=region_selected,\n",
    "                             programs=[program,])\n",
    "        local_num_facs = local_region.get_active_facilities( program )\n",
    "        local_events = local_region.get_events( data_type, program, 2021 )\n",
    "        local_events[ region_selected ] = local_events[y_field]/local_num_facs\n",
    "\n",
    "    df_events = usa_events.drop( y_field, 1 )\n",
    "    for state_name,state_events in state_events_dict.items():\n",
    "        df_events = df_events.merge( state_events[['Year',state_name]] )\n",
    "    if ( region_type != 'State' ):\n",
    "        df_events = df_events.merge( local_events[['Year',region_selected]])\n",
    "    return df_events\n",
    "\n",
    "program = program_widget.value\n",
    "\n",
    "df_events = create_df( 'inspections', 'Count' )\n",
    "ylabel = '{} per facility'.format( 'inspections' )\n",
    "df_events.plot.line( x='Year', ylabel=ylabel )\n",
    "\n",
    "df_events = create_df( 'violations', 'Count' )\n",
    "ylabel = '{} per facility'.format( 'violations' )\n",
    "df_events.plot.line( x='Year', ylabel=ylabel )\n",
    "\n",
    "df_events = create_df( 'enforcements', 'Count' )\n",
    "df_events = df_events.drop( 'Amount', 1)\n",
    "ylabel = '{} per facility'.format( 'enforcements' )\n",
    "df_events.plot.line( x='Year', ylabel=ylabel )\n",
    "\n",
    "df_events = create_df( 'enforcements', 'Amount' )\n",
    "df_events = df_events.drop( 'Count', 1)\n",
    "ylabel = '{} per facility'.format( 'fines' )\n",
    "df_events.plot.line( x='Year', ylabel=ylabel )\n",
    "\n"
   ]
  },
  {
   "cell_type": "code",
   "execution_count": null,
   "metadata": {},
   "outputs": [],
   "source": []
  }
 ],
 "metadata": {
  "colab": {
   "name": "AllPrograms.ipynb",
   "provenance": []
  },
  "kernelspec": {
   "display_name": "Python 3",
   "language": "python",
   "name": "python3"
  },
  "language_info": {
   "codemirror_mode": {
    "name": "ipython",
    "version": 3
   },
   "file_extension": ".py",
   "mimetype": "text/x-python",
   "name": "python",
   "nbconvert_exporter": "python",
   "pygments_lexer": "ipython3",
   "version": "3.8.5"
  }
 },
 "nbformat": 4,
 "nbformat_minor": 1
}
