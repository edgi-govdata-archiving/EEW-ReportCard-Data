{
 "cells": [
  {
   "cell_type": "markdown",
   "metadata": {
    "colab_type": "text",
    "id": "9iqQomRkRGm2"
   },
   "source": [
    "| ![EEW logo](https://github.com/edgi-govdata-archiving/EEW-Image-Assets/blob/master/Jupyter%20instructions/eew.jpg?raw=true) | ![EDGI logo](https://github.com/edgi-govdata-archiving/EEW-Image-Assets/blob/master/Jupyter%20instructions/edgi.png?raw=true) |\n",
    "|---|---|\n",
    "\n",
    "#### This notebook is licensed under GPL 3.0. Please visit our Github repo for more information: https://github.com/edgi-govdata-archiving/ECHO-COVID19\n",
    "#### The notebook was collaboratively authored by EDGI following our authorship protocol: https://docs.google.com/document/d/1CtDN5ZZ4Zv70fHiBTmWkDJ9mswEipX6eCYrwicP66Xw/\n",
    "#### For more information about this project, visit https://www.environmentalenforcementwatch.org/"
   ]
  },
  {
   "cell_type": "markdown",
   "metadata": {
    "colab_type": "text",
    "id": "Y2ld3IVjRGm3"
   },
   "source": [
    "# Use the region.db SQLite database to look up data on regions\n",
    "\n",
    "This notebook uses the region.db database that is part of the EEW Congressional Report Card generation process.  It gives the user the opportunity to look into the information collected in that database, in ways that may not be a part of our current report cards."
   ]
  },
  {
   "cell_type": "markdown",
   "metadata": {
    "colab_type": "text",
    "id": "g_Q7wCmjRGm5"
   },
   "source": [
    "## How to Run\n",
    "* A \"cell\" in a Jupyter notebook is a block of code performing a set of actions making available or using specific data.  The notebook works by running one cell after another, as the notebook user selects offered options.\n",
    "* If you click on a gray **code** cell, a little “play button” arrow appears on the left. If you click the play button, it will run the code in that cell (“**running** a cell”). The button will animate. When the animation stops, the cell has finished running.\n",
    "![Where to click to run the cell](https://github.com/edgi-govdata-archiving/EEW-Image-Assets/blob/master/Jupyter%20instructions/pressplay.JPG?raw=true)\n",
    "* You may get a warning that the notebook was not authored by Google. We know, we authored them! It’s okay. Click “Run Anyway” to continue. \n",
    "![Error Message](https://github.com/edgi-govdata-archiving/EEW-Image-Assets/blob/master/Jupyter%20instructions/warning-message.JPG?raw=true)\n",
    "* **It is important to run cells in order because they depend on each other.**\n",
    "* Run all of the cells in a Notebook to make a complete report. Please feel free to look at and **learn about each result as you create it**!"
   ]
  },
  {
   "cell_type": "markdown",
   "metadata": {
    "colab_type": "text",
    "id": "H0o5UIQFRGm7"
   },
   "source": [
    "---"
   ]
  },
  {
   "cell_type": "markdown",
   "metadata": {
    "colab_type": "text",
    "id": "gGXDiht8RGm8"
   },
   "source": [
    "# **Let's begin!**"
   ]
  },
  {
   "cell_type": "markdown",
   "metadata": {
    "colab_type": "text",
    "id": "SBuGoozCRGm9"
   },
   "source": [
    "Hover over the \"[ ]\" on the top left corner of the cell below and you should see a \"play\" button appear. Click on it to run the cell then move to the next one.\n",
    "\n",
    "These first two cells give us access to some external Python code we will need."
   ]
  },
  {
   "cell_type": "markdown",
   "metadata": {
    "colab_type": "text",
    "id": "oP0y1jSyRGnA"
   },
   "source": [
    "### 1.  Bring in some code that is stored in a Github project.\n",
    "These two github repositories hold Python code that the notebook uses.\n",
    "* ECHO_modules holds code that can be used in this and other notebooks--the DataSet class, the make_data_sets() function, etc.\n",
    "* The ECHO-Cross-Program repository is the one this notebook is contained in.  We clone it to be able to use the utilities.py file contained in it."
   ]
  },
  {
   "cell_type": "code",
   "execution_count": null,
   "metadata": {
    "colab": {},
    "colab_type": "code",
    "id": "Nw8lXKinRGnB",
    "tags": []
   },
   "outputs": [],
   "source": [
    "!git clone https://github.com/edgi-govdata-archiving/ECHO_modules.git\n",
    "print(\"Done!\")"
   ]
  },
  {
   "cell_type": "markdown",
   "metadata": {
    "colab_type": "text",
    "id": "daR24kpcRGnJ"
   },
   "source": [
    "### 2.  Import the Region class\n",
    "This class represents a particular region--a state or congressional district. It is constructed with these attributes.\n",
    "\n",
    "    Attributes\n",
    "    ----------\n",
    "    type : str\n",
    "        One of the supported region types--'State',\n",
    "        'Congressional District'    \n",
    "    value : str\n",
    "        The actual identifier of the region--e.g. the number of\n",
    "        the congressional district, omit for states    \n",
    "    state : str\n",
    "        The two letter state abbreviation    \n",
    "    programs : str\n",
    "        The EPA programs\n"
   ]
  },
  {
   "cell_type": "code",
   "execution_count": 2,
   "metadata": {
    "colab": {},
    "colab_type": "code",
    "id": "m0PffnzyRGnJ",
    "tags": []
   },
   "outputs": [],
   "source": [
    "from Region import Region\n",
    "\n",
    "programs = ['CAA', 'CWA', 'RCRA']"
   ]
  },
  {
   "cell_type": "markdown",
   "metadata": {},
   "source": [
    "### 3. Begin using functions available through the Region class\n",
    "    def get_per_1000( self, type, region, year ):\n",
    "    def get_cwa_per_1000( self, year ):\n",
    "    def get_recurring_violations( self, program ):\n",
    "    def get_inflation( self, base_year ):\n",
    "    def get_events( self, type, program, base_year ):\n",
    "    def get_non_compliants( self, program ):\n",
    "    def get_active_facilities( self, program, table='active_facilities' ):\n",
    "\n",
    "These examples get the violations per 1000 facilities for the total USA and the selected state."
   ]
  },
  {
   "cell_type": "code",
   "execution_count": 3,
   "metadata": {},
   "outputs": [
    {
     "name": "stdout",
     "output_type": "stream",
     "text": [
      "USA violations\n",
      "  Program      Per1000\n",
      "0     CAA    15.896591\n",
      "1     CWA  1041.326467\n",
      "2    RCRA    16.083605\n",
      "State violations - NY\n",
      "  Program      Per1000\n",
      "0     CAA     1.506717\n",
      "1     CWA  1372.311164\n",
      "2    RCRA     6.804825\n"
     ]
    }
   ],
   "source": [
    "this_state = 'NY'\n",
    "region = Region( type='State', state=this_state,\n",
    "                programs=programs )\n",
    "\n",
    "df = region.get_per_1000( 'violations', 'USA', 2020 )\n",
    "print( \"USA violations\" )\n",
    "print(df)\n",
    "df = region.get_per_1000( 'violations', 'State', 2020 )\n",
    "print( \"State violations - {}\".format(this_state) )\n",
    "print(df)"
   ]
  },
  {
   "cell_type": "markdown",
   "metadata": {
    "colab_type": "text",
    "id": "PFfUck2iRGnP"
   },
   "source": [
    "### 4.  Loop through all states and get violations per 1000 facilities for each"
   ]
  },
  {
   "cell_type": "code",
   "execution_count": 7,
   "metadata": {
    "colab": {},
    "colab_type": "code",
    "id": "inOzKoR3RGnQ"
   },
   "outputs": [
    {
     "name": "stdout",
     "output_type": "stream",
     "text": [
      "    State Program      Per1000\n",
      "0      AL     CAA    12.735327\n",
      "1      AL     CWA   334.660617\n",
      "2      AL    RCRA    19.992456\n",
      "3      AK     CAA   111.888112\n",
      "4      AK     CWA  9043.868395\n",
      "..    ...     ...          ...\n",
      "148    WI     CWA   621.195652\n",
      "149    WI    RCRA    14.986604\n",
      "150    WY     CAA     7.228916\n",
      "151    WY     CWA  1443.783069\n",
      "152    WY    RCRA    22.260274\n",
      "\n",
      "[153 rows x 3 columns]\n"
     ]
    }
   ],
   "source": [
    "import pandas as pd\n",
    "from ECHO_modules.geographies import states\n",
    "\n",
    "all_df = pd.DataFrame( columns=['State', 'Program', 'Per1000'] )\n",
    "for this_state in states:\n",
    "    region = Region( type='State', state=this_state,\n",
    "                programs=programs )\n",
    "    df = region.get_per_1000( 'violations', 'State', 2020 )\n",
    "    df.insert( 0, 'State', this_state )\n",
    "    all_df = all_df.append( df, ignore_index=True )\n",
    "    # print( \"State violations - {}\".format(this_state) )\n",
    "    # print(df)\n",
    "print( all_df )\n",
    "all_df.to_json( 'state_violations.json', orient='records' )"
   ]
  },
  {
   "cell_type": "markdown",
   "metadata": {},
   "source": [
    "### 4.  Loop through all CDs and get violations per 1000 facilities for each"
   ]
  },
  {
   "cell_type": "code",
   "execution_count": 24,
   "metadata": {
    "scrolled": true
   },
   "outputs": [
    {
     "name": "stdout",
     "output_type": "stream",
     "text": [
      "  State   CD Program Per1000  \\\n",
      "0   NaN  NaN     NaN     NaN   \n",
      "\n",
      "                                                   0  \\\n",
      "0    State  CD Program     Per1000\n",
      "0    AL   4   ...   \n",
      "\n",
      "                                                   1  \\\n",
      "0    State  CD Program     Per1000\n",
      "0    CA  37   ...   \n",
      "\n",
      "                                                   2  \\\n",
      "0    State  CD Program     Per1000\n",
      "0    FL  12   ...   \n",
      "\n",
      "                                                   3  \\\n",
      "0    State  CD Program      Per1000\n",
      "0    GA   2  ...   \n",
      "\n",
      "                                                   4  \\\n",
      "0    State  CD Program     Per1000\n",
      "0    OR   3   ...   \n",
      "\n",
      "                                                   5  ...  \\\n",
      "0    State  CD Program     Per1000\n",
      "0    TX   8   ...  ...   \n",
      "\n",
      "                                                 428  \\\n",
      "0    State  CD Program    Per1000\n",
      "0    UT   1    ...   \n",
      "\n",
      "                                                 429  \\\n",
      "0    State  CD Program    Per1000\n",
      "0    UT   4    ...   \n",
      "\n",
      "                                                 430  \\\n",
      "0    State  CD Program     Per1000\n",
      "0    VA   5   ...   \n",
      "\n",
      "                                                 431  \\\n",
      "0    State  CD Program      Per1000\n",
      "0    WA  10  ...   \n",
      "\n",
      "                                                 432  \\\n",
      "0    State  CD Program     Per1000\n",
      "0    WI   5   ...   \n",
      "\n",
      "                                                 433  \\\n",
      "0    State  CD Program      Per1000\n",
      "0    NY  22  ...   \n",
      "\n",
      "                                                 434  \\\n",
      "0    State  CD Program      Per1000\n",
      "0    LA   5  ...   \n",
      "\n",
      "                                                 435  \\\n",
      "0    State  CD Program      Per1000\n",
      "0    LA   2  ...   \n",
      "\n",
      "                                                 436  \\\n",
      "0    State  CD Program     Per1000\n",
      "0    NM   1   ...   \n",
      "\n",
      "                                                 437  \n",
      "0    State  CD Program     Per1000\n",
      "0    TX   6   ...  \n",
      "\n",
      "[1 rows x 442 columns]\n"
     ]
    }
   ],
   "source": [
    "import pandas as pd\n",
    "\n",
    "def get_cd( row ):\n",
    "    region = Region( type='Congressional District', state=row[0], value=row[1],\n",
    "                programs=programs )\n",
    "    df = region.get_per_1000( type='violations', region='CD', year=2020 )\n",
    "    df.insert( 0, 'State', row[0] )\n",
    "    df.insert( 1, 'CD', row[1] )\n",
    "    return df\n",
    "    \n",
    "\n",
    "region = Region( type='None' )\n",
    "all_cds = region.get_cds()\n",
    "\n",
    "all_df = pd.DataFrame( columns=['State', 'CD', 'Program', 'Per1000'] )\n",
    "\n",
    "all_df = all_df.append( all_cds.apply( get_cd, axis=1 ), ignore_index=True )\n",
    "all_df.to_json( 'cd_violations.json', orient='records' )"
   ]
  },
  {
   "cell_type": "code",
   "execution_count": 22,
   "metadata": {},
   "outputs": [
    {
     "name": "stdout",
     "output_type": "stream",
     "text": [
      "> \u001b[0;32m<ipython-input-22-4f4a2f0055b9>\u001b[0m(8)\u001b[0;36mget_cd\u001b[0;34m()\u001b[0m\n",
      "\u001b[0;32m      6 \u001b[0;31m    \u001b[0mdf\u001b[0m\u001b[0;34m.\u001b[0m\u001b[0minsert\u001b[0m\u001b[0;34m(\u001b[0m \u001b[0;36m1\u001b[0m\u001b[0;34m,\u001b[0m \u001b[0;34m'CD'\u001b[0m\u001b[0;34m,\u001b[0m \u001b[0mrow\u001b[0m\u001b[0;34m[\u001b[0m\u001b[0;36m1\u001b[0m\u001b[0;34m]\u001b[0m \u001b[0;34m)\u001b[0m\u001b[0;34m\u001b[0m\u001b[0;34m\u001b[0m\u001b[0m\n",
      "\u001b[0m\u001b[0;32m      7 \u001b[0;31m    \u001b[0mbreakpoint\u001b[0m\u001b[0;34m(\u001b[0m\u001b[0;34m)\u001b[0m\u001b[0;34m\u001b[0m\u001b[0;34m\u001b[0m\u001b[0m\n",
      "\u001b[0m\u001b[0;32m----> 8 \u001b[0;31m    \u001b[0;32mreturn\u001b[0m \u001b[0mdf\u001b[0m\u001b[0;34m\u001b[0m\u001b[0;34m\u001b[0m\u001b[0m\n",
      "\u001b[0m\u001b[0;32m      9 \u001b[0;31m\u001b[0;34m\u001b[0m\u001b[0m\n",
      "\u001b[0m\u001b[0;32m     10 \u001b[0;31m\u001b[0mall_df\u001b[0m \u001b[0;34m=\u001b[0m \u001b[0mall_df\u001b[0m\u001b[0;34m.\u001b[0m\u001b[0mappend\u001b[0m\u001b[0;34m(\u001b[0m \u001b[0mall_cds\u001b[0m\u001b[0;34m.\u001b[0m\u001b[0mapply\u001b[0m\u001b[0;34m(\u001b[0m \u001b[0mget_cd\u001b[0m\u001b[0;34m,\u001b[0m \u001b[0maxis\u001b[0m\u001b[0;34m=\u001b[0m\u001b[0;36m1\u001b[0m \u001b[0;34m)\u001b[0m\u001b[0;34m,\u001b[0m \u001b[0mignore_index\u001b[0m\u001b[0;34m=\u001b[0m\u001b[0;32mTrue\u001b[0m \u001b[0;34m)\u001b[0m\u001b[0;34m\u001b[0m\u001b[0;34m\u001b[0m\u001b[0m\n",
      "\u001b[0m\n",
      "ipdb> df\n",
      "  State  CD Program     Per1000\n",
      "0    AL   4     CAA    0.000000\n",
      "1    AL   4     CWA  468.733007\n",
      "2    AL   4    RCRA   33.232628\n",
      "ipdb> all_df\n",
      "  State   CD Program Per1000  \\\n",
      "0   NaN  NaN     NaN     NaN   \n",
      "1   NaN  NaN     NaN     NaN   \n",
      "2   NaN  NaN     NaN     NaN   \n",
      "\n",
      "                                                   0  \\\n",
      "0                                               None   \n",
      "1    State  CD Program     Per1000\n",
      "0    AL   4   ...   \n",
      "2    State  CD Program     Per1000\n",
      "0    AL   4   ...   \n",
      "\n",
      "                                                   1  \\\n",
      "0                                               None   \n",
      "1    State  CD Program     Per1000\n",
      "0    CA  37   ...   \n",
      "2    State  CD Program     Per1000\n",
      "0    CA  37   ...   \n",
      "\n",
      "                                                   2  \\\n",
      "0                                               None   \n",
      "1    State  CD Program     Per1000\n",
      "0    FL  12   ...   \n",
      "2    State  CD Program     Per1000\n",
      "0    FL  12   ...   \n",
      "\n",
      "                                                   3  \\\n",
      "0                                               None   \n",
      "1    State  CD Program      Per1000\n",
      "0    GA   2  ...   \n",
      "2    State  CD Program      Per1000\n",
      "0    GA   2  ...   \n",
      "\n",
      "                                                   4  \\\n",
      "0                                               None   \n",
      "1    State  CD Program     Per1000\n",
      "0    OR   3   ...   \n",
      "2    State  CD Program     Per1000\n",
      "0    OR   3   ...   \n",
      "\n",
      "                                                   5  ...  \\\n",
      "0                                               None  ...   \n",
      "1    State  CD Program     Per1000\n",
      "0    TX   8   ...  ...   \n",
      "2    State  CD Program     Per1000\n",
      "0    TX   8   ...  ...   \n",
      "\n",
      "                                                 428  \\\n",
      "0                                               None   \n",
      "1    State  CD Program    Per1000\n",
      "0    UT   1    ...   \n",
      "2    State  CD Program    Per1000\n",
      "0    UT   1    ...   \n",
      "\n",
      "                                                 429  \\\n",
      "0                                               None   \n",
      "1    State  CD Program    Per1000\n",
      "0    UT   4    ...   \n",
      "2    State  CD Program    Per1000\n",
      "0    UT   4    ...   \n",
      "\n",
      "                                                 430  \\\n",
      "0                                               None   \n",
      "1    State  CD Program     Per1000\n",
      "0    VA   5   ...   \n",
      "2    State  CD Program     Per1000\n",
      "0    VA   5   ...   \n",
      "\n",
      "                                                 431  \\\n",
      "0                                               None   \n",
      "1    State  CD Program      Per1000\n",
      "0    WA  10  ...   \n",
      "2    State  CD Program      Per1000\n",
      "0    WA  10  ...   \n",
      "\n",
      "                                                 432  \\\n",
      "0                                               None   \n",
      "1    State  CD Program     Per1000\n",
      "0    WI   5   ...   \n",
      "2    State  CD Program     Per1000\n",
      "0    WI   5   ...   \n",
      "\n",
      "                                                 433  \\\n",
      "0                                               None   \n",
      "1    State  CD Program      Per1000\n",
      "0    NY  22  ...   \n",
      "2    State  CD Program      Per1000\n",
      "0    NY  22  ...   \n",
      "\n",
      "                                                 434  \\\n",
      "0                                               None   \n",
      "1    State  CD Program      Per1000\n",
      "0    LA   5  ...   \n",
      "2    State  CD Program      Per1000\n",
      "0    LA   5  ...   \n",
      "\n",
      "                                                 435  \\\n",
      "0                                               None   \n",
      "1    State  CD Program      Per1000\n",
      "0    LA   2  ...   \n",
      "2    State  CD Program      Per1000\n",
      "0    LA   2  ...   \n",
      "\n",
      "                                                 436  \\\n",
      "0                                               None   \n",
      "1    State  CD Program     Per1000\n",
      "0    NM   1   ...   \n",
      "2    State  CD Program     Per1000\n",
      "0    NM   1   ...   \n",
      "\n",
      "                                                 437  \n",
      "0                                               None  \n",
      "1    State  CD Program     Per1000\n",
      "0    TX   6   ...  \n",
      "2    State  CD Program     Per1000\n",
      "0    TX   6   ...  \n",
      "\n",
      "[3 rows x 442 columns]\n",
      "ipdb> quit()\n"
     ]
    },
    {
     "ename": "BdbQuit",
     "evalue": "",
     "output_type": "error",
     "traceback": [
      "\u001b[0;31m---------------------------------------------------------------------------\u001b[0m",
      "\u001b[0;31mBdbQuit\u001b[0m                                   Traceback (most recent call last)",
      "\u001b[0;32m<ipython-input-22-4f4a2f0055b9>\u001b[0m in \u001b[0;36m<module>\u001b[0;34m\u001b[0m\n\u001b[1;32m      8\u001b[0m     \u001b[0;32mreturn\u001b[0m \u001b[0mdf\u001b[0m\u001b[0;34m\u001b[0m\u001b[0;34m\u001b[0m\u001b[0m\n\u001b[1;32m      9\u001b[0m \u001b[0;34m\u001b[0m\u001b[0m\n\u001b[0;32m---> 10\u001b[0;31m \u001b[0mall_df\u001b[0m \u001b[0;34m=\u001b[0m \u001b[0mall_df\u001b[0m\u001b[0;34m.\u001b[0m\u001b[0mappend\u001b[0m\u001b[0;34m(\u001b[0m \u001b[0mall_cds\u001b[0m\u001b[0;34m.\u001b[0m\u001b[0mapply\u001b[0m\u001b[0;34m(\u001b[0m \u001b[0mget_cd\u001b[0m\u001b[0;34m,\u001b[0m \u001b[0maxis\u001b[0m\u001b[0;34m=\u001b[0m\u001b[0;36m1\u001b[0m \u001b[0;34m)\u001b[0m\u001b[0;34m,\u001b[0m \u001b[0mignore_index\u001b[0m\u001b[0;34m=\u001b[0m\u001b[0;32mTrue\u001b[0m \u001b[0;34m)\u001b[0m\u001b[0;34m\u001b[0m\u001b[0;34m\u001b[0m\u001b[0m\n\u001b[0m\u001b[1;32m     11\u001b[0m \u001b[0mprint\u001b[0m\u001b[0;34m(\u001b[0m \u001b[0mall_df\u001b[0m \u001b[0;34m)\u001b[0m\u001b[0;34m\u001b[0m\u001b[0;34m\u001b[0m\u001b[0m\n\u001b[1;32m     12\u001b[0m \u001b[0;31m# all_df.to_json( 'cd_violations.json', orient='records' )\u001b[0m\u001b[0;34m\u001b[0m\u001b[0;34m\u001b[0m\u001b[0;34m\u001b[0m\u001b[0m\n",
      "\u001b[0;32m~/anaconda3/lib/python3.8/site-packages/pandas/core/frame.py\u001b[0m in \u001b[0;36mapply\u001b[0;34m(self, func, axis, raw, result_type, args, **kwds)\u001b[0m\n\u001b[1;32m   7546\u001b[0m             \u001b[0mkwds\u001b[0m\u001b[0;34m=\u001b[0m\u001b[0mkwds\u001b[0m\u001b[0;34m,\u001b[0m\u001b[0;34m\u001b[0m\u001b[0;34m\u001b[0m\u001b[0m\n\u001b[1;32m   7547\u001b[0m         )\n\u001b[0;32m-> 7548\u001b[0;31m         \u001b[0;32mreturn\u001b[0m \u001b[0mop\u001b[0m\u001b[0;34m.\u001b[0m\u001b[0mget_result\u001b[0m\u001b[0;34m(\u001b[0m\u001b[0;34m)\u001b[0m\u001b[0;34m\u001b[0m\u001b[0;34m\u001b[0m\u001b[0m\n\u001b[0m\u001b[1;32m   7549\u001b[0m \u001b[0;34m\u001b[0m\u001b[0m\n\u001b[1;32m   7550\u001b[0m     \u001b[0;32mdef\u001b[0m \u001b[0mapplymap\u001b[0m\u001b[0;34m(\u001b[0m\u001b[0mself\u001b[0m\u001b[0;34m,\u001b[0m \u001b[0mfunc\u001b[0m\u001b[0;34m)\u001b[0m \u001b[0;34m->\u001b[0m \u001b[0;34m\"DataFrame\"\u001b[0m\u001b[0;34m:\u001b[0m\u001b[0;34m\u001b[0m\u001b[0;34m\u001b[0m\u001b[0m\n",
      "\u001b[0;32m~/anaconda3/lib/python3.8/site-packages/pandas/core/apply.py\u001b[0m in \u001b[0;36mget_result\u001b[0;34m(self)\u001b[0m\n\u001b[1;32m    178\u001b[0m             \u001b[0;32mreturn\u001b[0m \u001b[0mself\u001b[0m\u001b[0;34m.\u001b[0m\u001b[0mapply_raw\u001b[0m\u001b[0;34m(\u001b[0m\u001b[0;34m)\u001b[0m\u001b[0;34m\u001b[0m\u001b[0;34m\u001b[0m\u001b[0m\n\u001b[1;32m    179\u001b[0m \u001b[0;34m\u001b[0m\u001b[0m\n\u001b[0;32m--> 180\u001b[0;31m         \u001b[0;32mreturn\u001b[0m \u001b[0mself\u001b[0m\u001b[0;34m.\u001b[0m\u001b[0mapply_standard\u001b[0m\u001b[0;34m(\u001b[0m\u001b[0;34m)\u001b[0m\u001b[0;34m\u001b[0m\u001b[0;34m\u001b[0m\u001b[0m\n\u001b[0m\u001b[1;32m    181\u001b[0m \u001b[0;34m\u001b[0m\u001b[0m\n\u001b[1;32m    182\u001b[0m     \u001b[0;32mdef\u001b[0m \u001b[0mapply_empty_result\u001b[0m\u001b[0;34m(\u001b[0m\u001b[0mself\u001b[0m\u001b[0;34m)\u001b[0m\u001b[0;34m:\u001b[0m\u001b[0;34m\u001b[0m\u001b[0;34m\u001b[0m\u001b[0m\n",
      "\u001b[0;32m~/anaconda3/lib/python3.8/site-packages/pandas/core/apply.py\u001b[0m in \u001b[0;36mapply_standard\u001b[0;34m(self)\u001b[0m\n\u001b[1;32m    269\u001b[0m \u001b[0;34m\u001b[0m\u001b[0m\n\u001b[1;32m    270\u001b[0m     \u001b[0;32mdef\u001b[0m \u001b[0mapply_standard\u001b[0m\u001b[0;34m(\u001b[0m\u001b[0mself\u001b[0m\u001b[0;34m)\u001b[0m\u001b[0;34m:\u001b[0m\u001b[0;34m\u001b[0m\u001b[0;34m\u001b[0m\u001b[0m\n\u001b[0;32m--> 271\u001b[0;31m         \u001b[0mresults\u001b[0m\u001b[0;34m,\u001b[0m \u001b[0mres_index\u001b[0m \u001b[0;34m=\u001b[0m \u001b[0mself\u001b[0m\u001b[0;34m.\u001b[0m\u001b[0mapply_series_generator\u001b[0m\u001b[0;34m(\u001b[0m\u001b[0;34m)\u001b[0m\u001b[0;34m\u001b[0m\u001b[0;34m\u001b[0m\u001b[0m\n\u001b[0m\u001b[1;32m    272\u001b[0m \u001b[0;34m\u001b[0m\u001b[0m\n\u001b[1;32m    273\u001b[0m         \u001b[0;31m# wrap results\u001b[0m\u001b[0;34m\u001b[0m\u001b[0;34m\u001b[0m\u001b[0;34m\u001b[0m\u001b[0m\n",
      "\u001b[0;32m~/anaconda3/lib/python3.8/site-packages/pandas/core/apply.py\u001b[0m in \u001b[0;36mapply_series_generator\u001b[0;34m(self)\u001b[0m\n\u001b[1;32m    298\u001b[0m                 \u001b[0;32mfor\u001b[0m \u001b[0mi\u001b[0m\u001b[0;34m,\u001b[0m \u001b[0mv\u001b[0m \u001b[0;32min\u001b[0m \u001b[0menumerate\u001b[0m\u001b[0;34m(\u001b[0m\u001b[0mseries_gen\u001b[0m\u001b[0;34m)\u001b[0m\u001b[0;34m:\u001b[0m\u001b[0;34m\u001b[0m\u001b[0;34m\u001b[0m\u001b[0m\n\u001b[1;32m    299\u001b[0m                     \u001b[0;31m# ignore SettingWithCopy here in case the user mutates\u001b[0m\u001b[0;34m\u001b[0m\u001b[0;34m\u001b[0m\u001b[0;34m\u001b[0m\u001b[0m\n\u001b[0;32m--> 300\u001b[0;31m                     \u001b[0mresults\u001b[0m\u001b[0;34m[\u001b[0m\u001b[0mi\u001b[0m\u001b[0;34m]\u001b[0m \u001b[0;34m=\u001b[0m \u001b[0mself\u001b[0m\u001b[0;34m.\u001b[0m\u001b[0mf\u001b[0m\u001b[0;34m(\u001b[0m\u001b[0mv\u001b[0m\u001b[0;34m)\u001b[0m\u001b[0;34m\u001b[0m\u001b[0;34m\u001b[0m\u001b[0m\n\u001b[0m\u001b[1;32m    301\u001b[0m                     \u001b[0;32mif\u001b[0m \u001b[0misinstance\u001b[0m\u001b[0;34m(\u001b[0m\u001b[0mresults\u001b[0m\u001b[0;34m[\u001b[0m\u001b[0mi\u001b[0m\u001b[0;34m]\u001b[0m\u001b[0;34m,\u001b[0m \u001b[0mABCSeries\u001b[0m\u001b[0;34m)\u001b[0m\u001b[0;34m:\u001b[0m\u001b[0;34m\u001b[0m\u001b[0;34m\u001b[0m\u001b[0m\n\u001b[1;32m    302\u001b[0m                         \u001b[0;31m# If we have a view on v, we need to make a copy because\u001b[0m\u001b[0;34m\u001b[0m\u001b[0;34m\u001b[0m\u001b[0;34m\u001b[0m\u001b[0m\n",
      "\u001b[0;32m<ipython-input-22-4f4a2f0055b9>\u001b[0m in \u001b[0;36mget_cd\u001b[0;34m(row)\u001b[0m\n\u001b[1;32m      6\u001b[0m     \u001b[0mdf\u001b[0m\u001b[0;34m.\u001b[0m\u001b[0minsert\u001b[0m\u001b[0;34m(\u001b[0m \u001b[0;36m1\u001b[0m\u001b[0;34m,\u001b[0m \u001b[0;34m'CD'\u001b[0m\u001b[0;34m,\u001b[0m \u001b[0mrow\u001b[0m\u001b[0;34m[\u001b[0m\u001b[0;36m1\u001b[0m\u001b[0;34m]\u001b[0m \u001b[0;34m)\u001b[0m\u001b[0;34m\u001b[0m\u001b[0;34m\u001b[0m\u001b[0m\n\u001b[1;32m      7\u001b[0m     \u001b[0mbreakpoint\u001b[0m\u001b[0;34m(\u001b[0m\u001b[0;34m)\u001b[0m\u001b[0;34m\u001b[0m\u001b[0;34m\u001b[0m\u001b[0m\n\u001b[0;32m----> 8\u001b[0;31m     \u001b[0;32mreturn\u001b[0m \u001b[0mdf\u001b[0m\u001b[0;34m\u001b[0m\u001b[0;34m\u001b[0m\u001b[0m\n\u001b[0m\u001b[1;32m      9\u001b[0m \u001b[0;34m\u001b[0m\u001b[0m\n\u001b[1;32m     10\u001b[0m \u001b[0mall_df\u001b[0m \u001b[0;34m=\u001b[0m \u001b[0mall_df\u001b[0m\u001b[0;34m.\u001b[0m\u001b[0mappend\u001b[0m\u001b[0;34m(\u001b[0m \u001b[0mall_cds\u001b[0m\u001b[0;34m.\u001b[0m\u001b[0mapply\u001b[0m\u001b[0;34m(\u001b[0m \u001b[0mget_cd\u001b[0m\u001b[0;34m,\u001b[0m \u001b[0maxis\u001b[0m\u001b[0;34m=\u001b[0m\u001b[0;36m1\u001b[0m \u001b[0;34m)\u001b[0m\u001b[0;34m,\u001b[0m \u001b[0mignore_index\u001b[0m\u001b[0;34m=\u001b[0m\u001b[0;32mTrue\u001b[0m \u001b[0;34m)\u001b[0m\u001b[0;34m\u001b[0m\u001b[0;34m\u001b[0m\u001b[0m\n",
      "\u001b[0;32m<ipython-input-22-4f4a2f0055b9>\u001b[0m in \u001b[0;36mget_cd\u001b[0;34m(row)\u001b[0m\n\u001b[1;32m      6\u001b[0m     \u001b[0mdf\u001b[0m\u001b[0;34m.\u001b[0m\u001b[0minsert\u001b[0m\u001b[0;34m(\u001b[0m \u001b[0;36m1\u001b[0m\u001b[0;34m,\u001b[0m \u001b[0;34m'CD'\u001b[0m\u001b[0;34m,\u001b[0m \u001b[0mrow\u001b[0m\u001b[0;34m[\u001b[0m\u001b[0;36m1\u001b[0m\u001b[0;34m]\u001b[0m \u001b[0;34m)\u001b[0m\u001b[0;34m\u001b[0m\u001b[0;34m\u001b[0m\u001b[0m\n\u001b[1;32m      7\u001b[0m     \u001b[0mbreakpoint\u001b[0m\u001b[0;34m(\u001b[0m\u001b[0;34m)\u001b[0m\u001b[0;34m\u001b[0m\u001b[0;34m\u001b[0m\u001b[0m\n\u001b[0;32m----> 8\u001b[0;31m     \u001b[0;32mreturn\u001b[0m \u001b[0mdf\u001b[0m\u001b[0;34m\u001b[0m\u001b[0;34m\u001b[0m\u001b[0m\n\u001b[0m\u001b[1;32m      9\u001b[0m \u001b[0;34m\u001b[0m\u001b[0m\n\u001b[1;32m     10\u001b[0m \u001b[0mall_df\u001b[0m \u001b[0;34m=\u001b[0m \u001b[0mall_df\u001b[0m\u001b[0;34m.\u001b[0m\u001b[0mappend\u001b[0m\u001b[0;34m(\u001b[0m \u001b[0mall_cds\u001b[0m\u001b[0;34m.\u001b[0m\u001b[0mapply\u001b[0m\u001b[0;34m(\u001b[0m \u001b[0mget_cd\u001b[0m\u001b[0;34m,\u001b[0m \u001b[0maxis\u001b[0m\u001b[0;34m=\u001b[0m\u001b[0;36m1\u001b[0m \u001b[0;34m)\u001b[0m\u001b[0;34m,\u001b[0m \u001b[0mignore_index\u001b[0m\u001b[0;34m=\u001b[0m\u001b[0;32mTrue\u001b[0m \u001b[0;34m)\u001b[0m\u001b[0;34m\u001b[0m\u001b[0;34m\u001b[0m\u001b[0m\n",
      "\u001b[0;32m~/anaconda3/lib/python3.8/bdb.py\u001b[0m in \u001b[0;36mtrace_dispatch\u001b[0;34m(self, frame, event, arg)\u001b[0m\n\u001b[1;32m     86\u001b[0m             \u001b[0;32mreturn\u001b[0m \u001b[0;31m# None\u001b[0m\u001b[0;34m\u001b[0m\u001b[0;34m\u001b[0m\u001b[0m\n\u001b[1;32m     87\u001b[0m         \u001b[0;32mif\u001b[0m \u001b[0mevent\u001b[0m \u001b[0;34m==\u001b[0m \u001b[0;34m'line'\u001b[0m\u001b[0;34m:\u001b[0m\u001b[0;34m\u001b[0m\u001b[0;34m\u001b[0m\u001b[0m\n\u001b[0;32m---> 88\u001b[0;31m             \u001b[0;32mreturn\u001b[0m \u001b[0mself\u001b[0m\u001b[0;34m.\u001b[0m\u001b[0mdispatch_line\u001b[0m\u001b[0;34m(\u001b[0m\u001b[0mframe\u001b[0m\u001b[0;34m)\u001b[0m\u001b[0;34m\u001b[0m\u001b[0;34m\u001b[0m\u001b[0m\n\u001b[0m\u001b[1;32m     89\u001b[0m         \u001b[0;32mif\u001b[0m \u001b[0mevent\u001b[0m \u001b[0;34m==\u001b[0m \u001b[0;34m'call'\u001b[0m\u001b[0;34m:\u001b[0m\u001b[0;34m\u001b[0m\u001b[0;34m\u001b[0m\u001b[0m\n\u001b[1;32m     90\u001b[0m             \u001b[0;32mreturn\u001b[0m \u001b[0mself\u001b[0m\u001b[0;34m.\u001b[0m\u001b[0mdispatch_call\u001b[0m\u001b[0;34m(\u001b[0m\u001b[0mframe\u001b[0m\u001b[0;34m,\u001b[0m \u001b[0marg\u001b[0m\u001b[0;34m)\u001b[0m\u001b[0;34m\u001b[0m\u001b[0;34m\u001b[0m\u001b[0m\n",
      "\u001b[0;32m~/anaconda3/lib/python3.8/bdb.py\u001b[0m in \u001b[0;36mdispatch_line\u001b[0;34m(self, frame)\u001b[0m\n\u001b[1;32m    111\u001b[0m         \u001b[0;32mif\u001b[0m \u001b[0mself\u001b[0m\u001b[0;34m.\u001b[0m\u001b[0mstop_here\u001b[0m\u001b[0;34m(\u001b[0m\u001b[0mframe\u001b[0m\u001b[0;34m)\u001b[0m \u001b[0;32mor\u001b[0m \u001b[0mself\u001b[0m\u001b[0;34m.\u001b[0m\u001b[0mbreak_here\u001b[0m\u001b[0;34m(\u001b[0m\u001b[0mframe\u001b[0m\u001b[0;34m)\u001b[0m\u001b[0;34m:\u001b[0m\u001b[0;34m\u001b[0m\u001b[0;34m\u001b[0m\u001b[0m\n\u001b[1;32m    112\u001b[0m             \u001b[0mself\u001b[0m\u001b[0;34m.\u001b[0m\u001b[0muser_line\u001b[0m\u001b[0;34m(\u001b[0m\u001b[0mframe\u001b[0m\u001b[0;34m)\u001b[0m\u001b[0;34m\u001b[0m\u001b[0;34m\u001b[0m\u001b[0m\n\u001b[0;32m--> 113\u001b[0;31m             \u001b[0;32mif\u001b[0m \u001b[0mself\u001b[0m\u001b[0;34m.\u001b[0m\u001b[0mquitting\u001b[0m\u001b[0;34m:\u001b[0m \u001b[0;32mraise\u001b[0m \u001b[0mBdbQuit\u001b[0m\u001b[0;34m\u001b[0m\u001b[0;34m\u001b[0m\u001b[0m\n\u001b[0m\u001b[1;32m    114\u001b[0m         \u001b[0;32mreturn\u001b[0m \u001b[0mself\u001b[0m\u001b[0;34m.\u001b[0m\u001b[0mtrace_dispatch\u001b[0m\u001b[0;34m\u001b[0m\u001b[0;34m\u001b[0m\u001b[0m\n\u001b[1;32m    115\u001b[0m \u001b[0;34m\u001b[0m\u001b[0m\n",
      "\u001b[0;31mBdbQuit\u001b[0m: "
     ]
    }
   ],
   "source": [
    "def get_cd( row ):\n",
    "    region = Region( type='Congressional District', state=row[0], value=row[1],\n",
    "                programs=programs )\n",
    "    df = region.get_per_1000( type='violations', region='CD', year=2020 )\n",
    "    df.insert( 0, 'State', row[0] )\n",
    "    df.insert( 1, 'CD', row[1] )\n",
    "    breakpoint()\n",
    "    return df\n",
    "    \n",
    "all_df = all_df.append( all_cds.apply( get_cd, axis=1 ), ignore_index=True )\n",
    "print( all_df )\n",
    "# all_df.to_json( 'cd_violations.json', orient='records' )"
   ]
  },
  {
   "cell_type": "code",
   "execution_count": null,
   "metadata": {},
   "outputs": [],
   "source": []
  }
 ],
 "metadata": {
  "colab": {
   "name": "AllPrograms.ipynb",
   "provenance": []
  },
  "kernelspec": {
   "display_name": "Python 3",
   "language": "python",
   "name": "python3"
  },
  "language_info": {
   "codemirror_mode": {
    "name": "ipython",
    "version": 3
   },
   "file_extension": ".py",
   "mimetype": "text/x-python",
   "name": "python",
   "nbconvert_exporter": "python",
   "pygments_lexer": "ipython3",
   "version": "3.8.5"
  }
 },
 "nbformat": 4,
 "nbformat_minor": 1
}
